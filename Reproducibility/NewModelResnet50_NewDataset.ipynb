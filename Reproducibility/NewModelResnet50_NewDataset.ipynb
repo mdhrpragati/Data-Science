{
  "cells": [
    {
      "cell_type": "markdown",
      "metadata": {
        "id": "NC3gnPTZcC3H"
      },
      "source": [
        "## Import Libraries"
      ]
    },
    {
      "cell_type": "code",
      "execution_count": null,
      "metadata": {
        "id": "DNBMjm1ncC3I"
      },
      "outputs": [],
      "source": [
        "import numpy as np\n",
        "import pandas as pd\n",
        "import tensorflow as tf\n",
        "from tensorflow import keras\n",
        "from keras.preprocessing.image import ImageDataGenerator,img_to_array,load_img\n",
        "import matplotlib.pyplot as plt\n",
        "import seaborn as sns\n",
        "import glob\n",
        "import cv2\n",
        "from keras import Sequential\n",
        "from keras.layers import Flatten,Dense,BatchNormalization,Dropout,LeakyReLU,GlobalAveragePooling2D\n",
        "from keras.optimizers import Adam,RMSprop\n",
        "from keras.losses import BinaryCrossentropy\n",
        "from keras.applications import ResNet50V2\n",
        "from keras.callbacks import EarlyStopping\n",
        "import os"
      ]
    },
    {
      "cell_type": "markdown",
      "metadata": {
        "id": "USI_4r-pcC3I"
      },
      "source": [
        "## Loading Data & Data Processing"
      ]
    },
    {
      "cell_type": "code",
      "execution_count": null,
      "metadata": {
        "colab": {
          "background_save": true,
          "base_uri": "https://localhost:8080/"
        },
        "id": "KgA0hYd5cLNY",
        "outputId": "a39f5119-f5ff-4f5f-9ed9-383f63ee9783"
      },
      "outputs": [
        {
          "name": "stdout",
          "output_type": "stream",
          "text": [
            "Mounted at /content/drive\n"
          ]
        }
      ],
      "source": [
        "from google.colab import drive\n",
        "drive.mount('/content/drive')"
      ]
    },
    {
      "cell_type": "code",
      "execution_count": null,
      "metadata": {
        "id": "00buS_XCczAO"
      },
      "outputs": [],
      "source": [
        "import os\n",
        "input_path = '/content/drive/MyDrive/newdataset_pneumonia/'\n",
        "\n",
        "counter_normal_train = len(os.listdir(input_path + 'train' + '/normal'))\n",
        "counter_infect_train = len(os.listdir(input_path + 'train' + '/pneumonia'))\n",
        "\n",
        "counter_normal_test = len(os.listdir(input_path + 'test' + '/normal'))\n",
        "counter_infect_test = len(os.listdir(input_path + 'test' +  '/pneumonia'))\n",
        "\n",
        "\n",
        "\n",
        "counter_all = counter_normal_train + counter_infect_train + counter_normal_test + counter_infect_test\n",
        "counter_all_healthy = counter_normal_train + counter_normal_test\n",
        "counter_all_infect = counter_infect_train + counter_infect_test"
      ]
    },
    {
      "cell_type": "code",
      "execution_count": null,
      "metadata": {
        "colab": {
          "base_uri": "https://localhost:8080/"
        },
        "id": "6jslvWvhcC3I",
        "outputId": "548d1eaf-d6d8-44c2-f43d-5fc782d86f19"
      },
      "outputs": [
        {
          "name": "stdout",
          "output_type": "stream",
          "text": [
            "number of normal images: 1581\n",
            "number of pneumonia images: 4265\n"
          ]
        }
      ],
      "source": [
        "number_of_normal_img = counter_all_healthy\n",
        "number_of_pneumonia_img = counter_all_infect\n",
        "print(\"number of normal images:\", number_of_normal_img)\n",
        "print(\"number of pneumonia images:\", number_of_pneumonia_img)"
      ]
    },
    {
      "cell_type": "code",
      "execution_count": null,
      "metadata": {
        "colab": {
          "base_uri": "https://localhost:8080/",
          "height": 681
        },
        "id": "5jAZyyJdcC3I",
        "outputId": "c636c046-30fc-44e1-971f-cea9b7515224"
      },
      "outputs": [
        {
          "data": {
            "image/png": "[encoded data removed]",
            "text/plain": [
              "<Figure size 800x800 with 1 Axes>"
            ]
          },
          "metadata": {},
          "output_type": "display_data"
        }
      ],
      "source": [
        "sns.set_theme(style=\"whitegrid\")\n",
        "plt.figure(figsize = (8,8))\n",
        "ax = sns.barplot( x = [\"Normal\", \"Pneumonia\"], y = [number_of_normal_img, number_of_pneumonia_img])"
      ]
    },
    {
      "cell_type": "markdown",
      "metadata": {
        "id": "bEG5A0uucC3J"
      },
      "source": [
        "## Data Visualization"
      ]
    },
    {
      "cell_type": "markdown",
      "metadata": {
        "id": "MIqALYWZcC3J"
      },
      "source": [
        "## Data Augmentation"
      ]
    },
    {
      "cell_type": "code",
      "execution_count": null,
      "metadata": {
        "id": "ct4-R44jcC3J"
      },
      "outputs": [],
      "source": [
        "train_val_generator = ImageDataGenerator(rescale=1./255,horizontal_flip=True,zoom_range=0.3)\n",
        "test_generator = ImageDataGenerator(rescale=1./255)"
      ]
    },
    {
      "cell_type": "code",
      "execution_count": null,
      "metadata": {
        "colab": {
          "base_uri": "https://localhost:8080/"
        },
        "id": "pIYUX4ogcC3J",
        "outputId": "db764a1b-b596-44f2-8aa4-40b8d5944f2e"
      },
      "outputs": [
        {
          "name": "stdout",
          "output_type": "stream",
          "text": [
            "Found 5222 images belonging to 2 classes.\n"
          ]
        }
      ],
      "source": [
        "train = train_val_generator.flow_from_directory(input_path + 'train',\n",
        "                                               batch_size=128,\n",
        "                                               target_size=(220,220),\n",
        "                                               color_mode=\"rgb\",\n",
        "                                               class_mode=\"binary\",\n",
        "                                               shuffle=True,\n",
        "                                               seed=42,\n",
        "                                               subset=\"training\")\n",
        "\n"
      ]
    },
    {
      "cell_type": "code",
      "execution_count": null,
      "metadata": {
        "colab": {
          "base_uri": "https://localhost:8080/"
        },
        "id": "VbDnK7wTcC3J",
        "outputId": "0be4200b-40bc-4510-9f69-1b48ab61ef1a"
      },
      "outputs": [
        {
          "name": "stdout",
          "output_type": "stream",
          "text": [
            "Found 16 images belonging to 2 classes.\n"
          ]
        }
      ],
      "source": [
        "val = train_val_generator.flow_from_directory(directory = input_path + 'val',\n",
        "                                               batch_size=4,\n",
        "                                               target_size=(220,220),\n",
        "                                               color_mode=\"rgb\",\n",
        "                                               class_mode=\"binary\",\n",
        "                                               shuffle=True,\n",
        "                                               seed=42)"
      ]
    },
    {
      "cell_type": "code",
      "execution_count": null,
      "metadata": {
        "colab": {
          "base_uri": "https://localhost:8080/"
        },
        "id": "CpRVzk8acC3J",
        "outputId": "9519282c-9d76-47b9-d461-bb34ed4a7534"
      },
      "outputs": [
        {
          "name": "stdout",
          "output_type": "stream",
          "text": [
            "Found 624 images belonging to 2 classes.\n"
          ]
        }
      ],
      "source": [
        "test = test_generator.flow_from_directory(directory = input_path + 'test',\n",
        "                                          batch_size=32,\n",
        "                                          target_size=(220,220),\n",
        "                                          color_mode=\"rgb\",\n",
        "                                          class_mode=\"binary\")"
      ]
    },
    {
      "cell_type": "markdown",
      "metadata": {
        "id": "gAuZ5P8tcC3J"
      },
      "source": [
        "## Deep Residual Network (ResNet)"
      ]
    },
    {
      "cell_type": "code",
      "execution_count": null,
      "metadata": {
        "colab": {
          "background_save": true,
          "base_uri": "https://localhost:8080/"
        },
        "id": "CeM6jOBccC3J",
        "outputId": "09c5dfd7-ce32-45e9-f254-602ed3a5bffd"
      },
      "outputs": [
        {
          "name": "stdout",
          "output_type": "stream",
          "text": [
            "Downloading data from https://storage.googleapis.com/tensorflow/keras-applications/resnet/resnet50v2_weights_tf_dim_ordering_tf_kernels_notop.h5\n",
            "94668760/94668760 [==============================] - 0s 0us/step\n"
          ]
        }
      ],
      "source": [
        "resnet50 = ResNet50V2(weights = \"imagenet\", input_shape = (220,220,3), include_top = False)"
      ]
    },
    {
      "cell_type": "code",
      "execution_count": null,
      "metadata": {
        "colab": {
          "background_save": true
        },
        "id": "e1vwM9docC3J"
      },
      "outputs": [],
      "source": [
        "for layer in resnet50.layers:\n",
        "    layer.trainable = False"
      ]
    },
    {
      "cell_type": "code",
      "execution_count": null,
      "metadata": {
        "colab": {
          "background_save": true
        },
        "id": "-GCeLVxwcC3J"
      },
      "outputs": [],
      "source": [
        "model = Sequential()\n",
        "\n",
        "model.add(resnet50)\n",
        "\n",
        "for layer in resnet50.layers:\n",
        "    layer.trainable = False\n",
        "\n",
        "model.add(Flatten())\n",
        "\n",
        "model.add(Dense(units = 128, activation = \"relu\"))\n",
        "model.add(Dropout(0.5))\n",
        "\n",
        "model.add(Dense(units = 1, activation = \"sigmoid\"))\n"
      ]
    },
    {
      "cell_type": "markdown",
      "metadata": {
        "id": "270_QbFBcC3J"
      },
      "source": [
        "## Compining the Model"
      ]
    },
    {
      "cell_type": "code",
      "execution_count": null,
      "metadata": {
        "colab": {
          "background_save": true
        },
        "id": "OJrzCc_FcC3J"
      },
      "outputs": [],
      "source": [
        "model.compile(optimizer = \"adam\", loss = \"binary_crossentropy\", metrics = [\"accuracy\"])"
      ]
    },
    {
      "cell_type": "code",
      "execution_count": null,
      "metadata": {
        "colab": {
          "background_save": true,
          "base_uri": "https://localhost:8080/"
        },
        "id": "LYkcUmDccC3J",
        "outputId": "7d19919a-048e-4255-d05f-8a253a870eac"
      },
      "outputs": [
        {
          "name": "stdout",
          "output_type": "stream",
          "text": [
            "Model: \"sequential\"\n",
            "_________________________________________________________________\n",
            " Layer (type)                Output Shape              Param #   \n",
            "=================================================================\n",
            " resnet50v2 (Functional)     (None, 7, 7, 2048)        23564800  \n",
            "                                                                 \n",
            " flatten (Flatten)           (None, 100352)            0         \n",
            "                                                                 \n",
            " dense (Dense)               (None, 128)               12845184  \n",
            "                                                                 \n",
            " dropout (Dropout)           (None, 128)               0         \n",
            "                                                                 \n",
            " dense_1 (Dense)             (None, 1)                 129       \n",
            "                                                                 \n",
            "=================================================================\n",
            "Total params: 36410113 (138.89 MB)\n",
            "Trainable params: 12845313 (49.00 MB)\n",
            "Non-trainable params: 23564800 (89.89 MB)\n",
            "_________________________________________________________________\n"
          ]
        }
      ],
      "source": [
        "model.summary()"
      ]
    },
    {
      "cell_type": "code",
      "execution_count": null,
      "metadata": {
        "colab": {
          "background_save": true,
          "base_uri": "https://localhost:8080/",
          "height": 644
        },
        "id": "HmH6NhpWcC3J",
        "outputId": "b606c6a4-24cf-4cb8-ed38-ebaf17828e24"
      },
      "outputs": [
        {
          "data": {
            "image/png": "[encoded data removed]",
            "text/plain": [
              "<IPython.core.display.Image object>"
            ]
          },
          "execution_count": 15,
          "metadata": {},
          "output_type": "execute_result"
        }
      ],
      "source": [
        "tf.keras.utils.plot_model(\n",
        "    model, to_file='model1.png', show_layer_names=True, show_shapes=True)\n",
        "\n"
      ]
    },
    {
      "cell_type": "code",
      "execution_count": null,
      "metadata": {
        "colab": {
          "background_save": true,
          "base_uri": "https://localhost:8080/"
        },
        "id": "c6H5mq1wcC3J",
        "outputId": "89d04be7-47c6-467a-abf1-feb274765448"
      },
      "outputs": [
        {
          "name": "stdout",
          "output_type": "stream",
          "text": [
            "Epoch 1/11\n",
            "41/41 [==============================] - 1575s 38s/step - loss: 1.0253 - accuracy: 0.8690 - val_loss: 0.2732 - val_accuracy: 0.8974\n",
            "Epoch 2/11\n",
            " 5/41 [==>...........................] - ETA: 16:21 - loss: 0.2180 - accuracy: 0.9031"
          ]
        }
      ],
      "source": [
        "\n",
        "import time\n",
        "\n",
        "start_time = time.time()\n",
        "hist = model.fit(train,validation_data=test,epochs=11)\n",
        "model.save(\"newdataset_resnet50kaggle.h5\")\n",
        "\n",
        "\n",
        "end_time = time.time()\n",
        "elapsed_time = end_time - start_time\n",
        "\n",
        "print(f\"Total training time: {elapsed_time} seconds\")"
      ]
    },
    {
      "cell_type": "markdown",
      "metadata": {
        "id": "za_ePovqcC3K"
      },
      "source": [
        "## Evaluate the Model"
      ]
    },
    {
      "cell_type": "code",
      "execution_count": null,
      "metadata": {
        "colab": {
          "background_save": true,
          "base_uri": "https://localhost:8080/",
          "height": 1000
        },
        "id": "2qLDFu5ocC3K",
        "outputId": "ec0744f0-5a71-4a81-da1d-e8767f12fabc"
      },
      "outputs": [
        {
          "data": {
            "image/png": "[encoded data removed]",
            "text/plain": [
              "<Figure size 600x600 with 1 Axes>"
            ]
          },
          "metadata": {},
          "output_type": "display_data"
        },
        {
          "data": {
            "text/plain": [
              "<Figure size 640x480 with 0 Axes>"
            ]
          },
          "metadata": {},
          "output_type": "display_data"
        },
        {
          "data": {
            "image/png": "[encoded data removed]",
            "text/plain": [
              "<Figure size 600x600 with 1 Axes>"
            ]
          },
          "metadata": {},
          "output_type": "display_data"
        }
      ],
      "source": [
        "plt.figure(figsize=(6,6))\n",
        "plt.plot(hist.history['loss'], color='b', label=\"Training loss\")\n",
        "plt.plot(hist.history['val_loss'], color='r', label=\"Validation loss\")\n",
        "plt.legend()\n",
        "plt.show()\n",
        "\n",
        "plt.figure()\n",
        "\n",
        "plt.figure(figsize=(6,6))\n",
        "plt.plot(hist.history['accuracy'], color='b', label=\"Training accuracy\")\n",
        "plt.plot(hist.history['val_accuracy'], color='r',label=\"Validation accuracy\")\n",
        "plt.legend(loc = \"lower right\")\n",
        "plt.show()"
      ]
    },
    {
      "cell_type": "code",
      "execution_count": null,
      "metadata": {
        "colab": {
          "base_uri": "https://localhost:8080/",
          "height": 328
        },
        "id": "I0zNt_6TcC3K",
        "outputId": "734ed492-7ea5-491a-c8a7-99452125e383"
      },
      "outputs": [
        {
          "ename": "ValueError",
          "evalue": "ignored",
          "output_type": "error",
          "traceback": [
            "\u001b[0;31m---------------------------------------------------------------------------\u001b[0m",
            "\u001b[0;31mValueError\u001b[0m                                Traceback (most recent call last)",
            "\u001b[0;32m<ipython-input-19-6562533661b6>\u001b[0m in \u001b[0;36m<cell line: 1>\u001b[0;34m()\u001b[0m\n\u001b[0;32m----> 1\u001b[0;31m \u001b[0mtest_results\u001b[0m \u001b[0;34m=\u001b[0m \u001b[0mmodel\u001b[0m\u001b[0;34m.\u001b[0m\u001b[0mevaluate\u001b[0m\u001b[0;34m(\u001b[0m\u001b[0;34m)\u001b[0m\u001b[0;34m\u001b[0m\u001b[0;34m\u001b[0m\u001b[0m\n\u001b[0m",
            "\u001b[0;32m/usr/local/lib/python3.10/dist-packages/keras/src/utils/traceback_utils.py\u001b[0m in \u001b[0;36merror_handler\u001b[0;34m(*args, **kwargs)\u001b[0m\n\u001b[1;32m     68\u001b[0m             \u001b[0;31m# To get the full stack trace, call:\u001b[0m\u001b[0;34m\u001b[0m\u001b[0;34m\u001b[0m\u001b[0m\n\u001b[1;32m     69\u001b[0m             \u001b[0;31m# `tf.debugging.disable_traceback_filtering()`\u001b[0m\u001b[0;34m\u001b[0m\u001b[0;34m\u001b[0m\u001b[0m\n\u001b[0;32m---> 70\u001b[0;31m             \u001b[0;32mraise\u001b[0m \u001b[0me\u001b[0m\u001b[0;34m.\u001b[0m\u001b[0mwith_traceback\u001b[0m\u001b[0;34m(\u001b[0m\u001b[0mfiltered_tb\u001b[0m\u001b[0;34m)\u001b[0m \u001b[0;32mfrom\u001b[0m \u001b[0;32mNone\u001b[0m\u001b[0;34m\u001b[0m\u001b[0;34m\u001b[0m\u001b[0m\n\u001b[0m\u001b[1;32m     71\u001b[0m         \u001b[0;32mfinally\u001b[0m\u001b[0;34m:\u001b[0m\u001b[0;34m\u001b[0m\u001b[0;34m\u001b[0m\u001b[0m\n\u001b[1;32m     72\u001b[0m             \u001b[0;32mdel\u001b[0m \u001b[0mfiltered_tb\u001b[0m\u001b[0;34m\u001b[0m\u001b[0;34m\u001b[0m\u001b[0m\n",
            "\u001b[0;32m/usr/local/lib/python3.10/dist-packages/keras/src/engine/data_adapter.py\u001b[0m in \u001b[0;36mselect_data_adapter\u001b[0;34m(x, y)\u001b[0m\n\u001b[1;32m   1103\u001b[0m     \u001b[0;32mif\u001b[0m \u001b[0;32mnot\u001b[0m \u001b[0madapter_cls\u001b[0m\u001b[0;34m:\u001b[0m\u001b[0;34m\u001b[0m\u001b[0;34m\u001b[0m\u001b[0m\n\u001b[1;32m   1104\u001b[0m         \u001b[0;31m# TODO(scottzhu): This should be a less implementation-specific error.\u001b[0m\u001b[0;34m\u001b[0m\u001b[0;34m\u001b[0m\u001b[0m\n\u001b[0;32m-> 1105\u001b[0;31m         raise ValueError(\n\u001b[0m\u001b[1;32m   1106\u001b[0m             \"Failed to find data adapter that can handle input: {}, {}\".format(\n\u001b[1;32m   1107\u001b[0m                 \u001b[0m_type_name\u001b[0m\u001b[0;34m(\u001b[0m\u001b[0mx\u001b[0m\u001b[0;34m)\u001b[0m\u001b[0;34m,\u001b[0m \u001b[0m_type_name\u001b[0m\u001b[0;34m(\u001b[0m\u001b[0my\u001b[0m\u001b[0;34m)\u001b[0m\u001b[0;34m\u001b[0m\u001b[0;34m\u001b[0m\u001b[0m\n",
            "\u001b[0;31mValueError\u001b[0m: Failed to find data adapter that can handle input: <class 'NoneType'>, <class 'NoneType'>"
          ]
        }
      ],
      "source": [
        "test_results = model.evaluate()"
      ]
    },
    {
      "cell_type": "code",
      "execution_count": null,
      "metadata": {
        "id": "sOkhI_eInwXl"
      },
      "outputs": [],
      "source": [
        "def process_images(dimensions):\n",
        "\n",
        "\n",
        "  test_data = []\n",
        "  test_labels = []\n",
        "\n",
        "  for condition in ['/normal/', '/pneumonia/']:\n",
        "    for image in (os.listdir(input_path + 'test' + condition)):\n",
        "      image = plt.imread(input_path + 'test' + condition + image)\n",
        "      image = cv2.resize(image, (dimensions, dimensions))\n",
        "      image = np.dstack([image, image, image])\n",
        "      image = image.astype('float32') / 255\n",
        "      if condition == '/normal/':\n",
        "        label = 0\n",
        "      elif condition == '/pneumonia/':\n",
        "        label = 1\n",
        "\n",
        "\n",
        "      test_data.append(image)\n",
        "      test_labels.append(label)\n",
        "\n",
        "  test_data = np.array(test_data)\n",
        "  test_labels = np.array(test_labels)\n",
        "\n",
        "  return test_data, test_labels\n"
      ]
    },
    {
      "cell_type": "code",
      "execution_count": null,
      "metadata": {
        "id": "f1BBtAlToXbz"
      },
      "outputs": [],
      "source": [
        "test_data, test_labels = process_images(220)"
      ]
    },
    {
      "cell_type": "code",
      "execution_count": null,
      "metadata": {
        "colab": {
          "base_uri": "https://localhost:8080/"
        },
        "id": "KPPkAozTaaea",
        "outputId": "0cf6b080-e4d8-42eb-dcb4-b5a69c5a1112"
      },
      "outputs": [
        {
          "name": "stdout",
          "output_type": "stream",
          "text": [
            "20/20 [==============================] - 5s 134ms/step\n",
            "[[1.93508691e-03]\n",
            " [4.25313748e-02]\n",
            " [8.37334082e-04]\n",
            " [5.80498278e-02]\n",
            " [6.75746650e-02]\n",
            " [4.11979714e-03]\n",
            " [3.07048738e-01]\n",
            " [8.83287936e-02]\n",
            " [9.52302068e-02]\n",
            " [3.00087128e-03]\n",
            " [6.98297005e-03]\n",
            " [2.78539420e-03]\n",
            " [1.12976842e-02]\n",
            " [1.21348494e-04]\n",
            " [7.72355720e-02]\n",
            " [2.46354030e-03]\n",
            " [2.11230032e-02]\n",
            " [2.02453793e-05]\n",
            " [5.52027347e-03]\n",
            " [3.80012859e-03]\n",
            " [1.86560422e-01]\n",
            " [7.16997776e-03]\n",
            " [1.78538561e-02]\n",
            " [5.33254407e-02]\n",
            " [6.23019761e-04]\n",
            " [1.51875103e-03]\n",
            " [1.94546476e-01]\n",
            " [7.98371912e-04]\n",
            " [4.87966567e-01]\n",
            " [1.03180632e-02]\n",
            " [1.20324954e-01]\n",
            " [6.52112486e-03]\n",
            " [1.43477274e-02]\n",
            " [4.07490188e-06]\n",
            " [4.01162133e-02]\n",
            " [2.67517229e-04]\n",
            " [1.49027144e-07]\n",
            " [5.30201979e-02]\n",
            " [3.95985771e-05]\n",
            " [1.28513705e-02]\n",
            " [3.36718783e-02]\n",
            " [3.31832652e-12]\n",
            " [1.20769930e-03]\n",
            " [2.83468872e-01]\n",
            " [2.76909792e-03]\n",
            " [5.00168763e-02]\n",
            " [2.28012237e-03]\n",
            " [1.46528762e-02]\n",
            " [2.55274177e-01]\n",
            " [1.05934404e-01]\n",
            " [1.27401575e-01]\n",
            " [9.70399201e-01]\n",
            " [1.02090789e-02]\n",
            " [6.80939853e-03]\n",
            " [9.00348499e-02]\n",
            " [1.01928767e-04]\n",
            " [4.18501487e-03]\n",
            " [4.07770425e-02]\n",
            " [2.46964773e-04]\n",
            " [1.01273367e-03]\n",
            " [9.99582112e-01]\n",
            " [6.15656674e-01]\n",
            " [4.93700430e-02]\n",
            " [2.39779413e-01]\n",
            " [8.77567828e-02]\n",
            " [1.03107162e-01]\n",
            " [9.72960413e-01]\n",
            " [3.95912856e-01]\n",
            " [9.95453358e-01]\n",
            " [3.20753127e-01]\n",
            " [1.92720503e-01]\n",
            " [6.24778211e-01]\n",
            " [2.09035594e-02]\n",
            " [3.66705540e-03]\n",
            " [2.31393531e-01]\n",
            " [8.29175115e-03]\n",
            " [3.66924480e-02]\n",
            " [3.84016186e-01]\n",
            " [1.70570180e-01]\n",
            " [2.61051834e-01]\n",
            " [3.51897597e-01]\n",
            " [2.21729468e-04]\n",
            " [2.34659031e-01]\n",
            " [2.71286853e-02]\n",
            " [7.34275341e-01]\n",
            " [9.96681392e-01]\n",
            " [1.92621304e-03]\n",
            " [6.66334876e-04]\n",
            " [6.13372540e-04]\n",
            " [9.68877284e-04]\n",
            " [9.20638144e-01]\n",
            " [5.64473402e-03]\n",
            " [2.07838621e-05]\n",
            " [2.12281756e-03]\n",
            " [1.86335878e-04]\n",
            " [1.26303947e-02]\n",
            " [4.21244069e-04]\n",
            " [9.53553677e-01]\n",
            " [1.15461923e-01]\n",
            " [4.62102034e-04]\n",
            " [9.79197212e-04]\n",
            " [9.76748049e-01]\n",
            " [9.66153681e-01]\n",
            " [1.11334957e-01]\n",
            " [9.86701548e-01]\n",
            " [4.24266420e-02]\n",
            " [3.95912856e-01]\n",
            " [8.87340546e-01]\n",
            " [2.30359394e-08]\n",
            " [8.40858091e-04]\n",
            " [6.15656674e-01]\n",
            " [1.26480713e-01]\n",
            " [2.38007363e-02]\n",
            " [1.92289808e-05]\n",
            " [1.70570180e-01]\n",
            " [1.12638824e-01]\n",
            " [1.63975999e-01]\n",
            " [5.49742300e-03]\n",
            " [1.92961146e-04]\n",
            " [7.23731875e-01]\n",
            " [6.33553462e-03]\n",
            " [9.99446571e-01]\n",
            " [9.15503442e-01]\n",
            " [5.27516752e-03]\n",
            " [6.71896338e-02]\n",
            " [7.84276417e-05]\n",
            " [6.79856002e-01]\n",
            " [3.35574299e-01]\n",
            " [2.56198494e-08]\n",
            " [9.55499828e-01]\n",
            " [9.15235579e-01]\n",
            " [1.12370843e-04]\n",
            " [9.99890566e-01]\n",
            " [3.31863582e-01]\n",
            " [4.35078174e-01]\n",
            " [2.63660098e-03]\n",
            " [2.24658179e-05]\n",
            " [6.05489790e-01]\n",
            " [1.97993615e-03]\n",
            " [4.62572396e-01]\n",
            " [5.28181787e-04]\n",
            " [9.95286167e-01]\n",
            " [1.92155540e-01]\n",
            " [9.95389104e-01]\n",
            " [1.23425154e-02]\n",
            " [1.65735573e-01]\n",
            " [1.29190922e-01]\n",
            " [3.65001298e-02]\n",
            " [2.41941540e-04]\n",
            " [4.02412144e-03]\n",
            " [4.92721470e-03]\n",
            " [1.62314773e-02]\n",
            " [9.37533379e-03]\n",
            " [7.85413105e-03]\n",
            " [7.63537064e-02]\n",
            " [1.68713683e-03]\n",
            " [2.65532315e-01]\n",
            " [2.00310647e-02]\n",
            " [1.09001552e-03]\n",
            " [3.94003233e-03]\n",
            " [5.78341896e-05]\n",
            " [1.50667325e-01]\n",
            " [4.62508231e-01]\n",
            " [1.02478232e-04]\n",
            " [1.31618381e-01]\n",
            " [6.62636943e-03]\n",
            " [1.22537930e-02]\n",
            " [7.56757483e-02]\n",
            " [5.19437762e-03]\n",
            " [1.26485702e-06]\n",
            " [7.69479811e-01]\n",
            " [1.67018001e-03]\n",
            " [5.07157994e-03]\n",
            " [6.32703404e-06]\n",
            " [3.27940315e-01]\n",
            " [1.38456747e-01]\n",
            " [2.16847453e-02]\n",
            " [8.55013356e-02]\n",
            " [3.92762244e-01]\n",
            " [4.23363410e-04]\n",
            " [4.19101477e-01]\n",
            " [1.34416943e-04]\n",
            " [1.16335981e-01]\n",
            " [7.26283193e-02]\n",
            " [5.50429240e-06]\n",
            " [9.76743456e-03]\n",
            " [1.50836967e-02]\n",
            " [4.46878932e-02]\n",
            " [1.55060003e-02]\n",
            " [4.27983323e-05]\n",
            " [4.27345571e-04]\n",
            " [1.18859872e-01]\n",
            " [3.59325372e-02]\n",
            " [9.74202715e-03]\n",
            " [6.79112878e-03]\n",
            " [8.05702541e-07]\n",
            " [1.47544546e-03]\n",
            " [2.34207362e-01]\n",
            " [3.28229857e-04]\n",
            " [3.11839511e-04]\n",
            " [2.72028483e-02]\n",
            " [1.52165725e-04]\n",
            " [5.85642830e-03]\n",
            " [2.06366479e-02]\n",
            " [4.84095871e-01]\n",
            " [1.59064066e-02]\n",
            " [7.02855550e-03]\n",
            " [1.57510653e-01]\n",
            " [1.72981083e-01]\n",
            " [2.81299581e-04]\n",
            " [2.88064405e-03]\n",
            " [6.01162970e-01]\n",
            " [1.72476232e-01]\n",
            " [2.36117211e-03]\n",
            " [2.70872447e-03]\n",
            " [3.47758234e-02]\n",
            " [1.33943162e-03]\n",
            " [3.28802969e-03]\n",
            " [3.13372537e-02]\n",
            " [4.69473571e-01]\n",
            " [1.29560726e-02]\n",
            " [4.40843264e-03]\n",
            " [2.25102991e-01]\n",
            " [9.63450521e-02]\n",
            " [1.23044308e-02]\n",
            " [3.06859985e-03]\n",
            " [1.02274092e-02]\n",
            " [2.86904047e-03]\n",
            " [2.57385196e-03]\n",
            " [2.20155939e-01]\n",
            " [6.48654858e-03]\n",
            " [2.76393145e-01]\n",
            " [2.89183617e-01]\n",
            " [3.43013345e-03]\n",
            " [1.00000000e+00]\n",
            " [1.00000000e+00]\n",
            " [1.00000000e+00]\n",
            " [9.99999642e-01]\n",
            " [9.13993537e-01]\n",
            " [1.00000000e+00]\n",
            " [9.37776208e-01]\n",
            " [9.99998569e-01]\n",
            " [9.98854995e-01]\n",
            " [1.00000000e+00]\n",
            " [1.00000000e+00]\n",
            " [9.83332157e-01]\n",
            " [3.69540811e-01]\n",
            " [9.99895453e-01]\n",
            " [9.99998808e-01]\n",
            " [9.94626701e-01]\n",
            " [8.34525585e-01]\n",
            " [1.00000000e+00]\n",
            " [1.00000000e+00]\n",
            " [9.98388767e-01]\n",
            " [1.00000000e+00]\n",
            " [9.99896646e-01]\n",
            " [1.00000000e+00]\n",
            " [9.97544229e-01]\n",
            " [9.64937389e-01]\n",
            " [1.00000000e+00]\n",
            " [9.99986410e-01]\n",
            " [9.99999166e-01]\n",
            " [9.73672688e-01]\n",
            " [1.00000000e+00]\n",
            " [9.99997377e-01]\n",
            " [1.00000000e+00]\n",
            " [9.99999881e-01]\n",
            " [1.00000000e+00]\n",
            " [1.00000000e+00]\n",
            " [9.98139501e-01]\n",
            " [1.00000000e+00]\n",
            " [1.00000000e+00]\n",
            " [9.99981284e-01]\n",
            " [1.00000000e+00]\n",
            " [9.99823630e-01]\n",
            " [9.99902010e-01]\n",
            " [1.00000000e+00]\n",
            " [1.00000000e+00]\n",
            " [1.00000000e+00]\n",
            " [1.36516824e-01]\n",
            " [1.00000000e+00]\n",
            " [1.00000000e+00]\n",
            " [9.99883294e-01]\n",
            " [9.52948213e-01]\n",
            " [1.00000000e+00]\n",
            " [9.40845251e-01]\n",
            " [9.99999404e-01]\n",
            " [9.98290479e-01]\n",
            " [9.99779522e-01]\n",
            " [1.00000000e+00]\n",
            " [1.00000000e+00]\n",
            " [9.99997139e-01]\n",
            " [9.99920607e-01]\n",
            " [1.00000000e+00]\n",
            " [1.00000000e+00]\n",
            " [1.00000000e+00]\n",
            " [1.00000000e+00]\n",
            " [9.99999881e-01]\n",
            " [9.99995708e-01]\n",
            " [1.00000000e+00]\n",
            " [9.99995351e-01]\n",
            " [1.00000000e+00]\n",
            " [9.99986887e-01]\n",
            " [9.99997497e-01]\n",
            " [1.00000000e+00]\n",
            " [9.99996066e-01]\n",
            " [1.00000000e+00]\n",
            " [1.00000000e+00]\n",
            " [8.68640602e-01]\n",
            " [9.90462005e-01]\n",
            " [1.00000000e+00]\n",
            " [7.98882723e-01]\n",
            " [1.00000000e+00]\n",
            " [1.00000000e+00]\n",
            " [9.99997020e-01]\n",
            " [9.99999642e-01]\n",
            " [4.11555976e-01]\n",
            " [1.00000000e+00]\n",
            " [9.21449602e-01]\n",
            " [9.99999881e-01]\n",
            " [9.59107995e-01]\n",
            " [1.00000000e+00]\n",
            " [9.78639960e-01]\n",
            " [9.99998927e-01]\n",
            " [9.99014616e-01]\n",
            " [9.60079789e-01]\n",
            " [1.00000000e+00]\n",
            " [1.00000000e+00]\n",
            " [9.93165195e-01]\n",
            " [9.99990344e-01]\n",
            " [9.99979258e-01]\n",
            " [9.99940038e-01]\n",
            " [9.60430026e-01]\n",
            " [9.88701582e-01]\n",
            " [9.99343932e-01]\n",
            " [9.99986172e-01]\n",
            " [9.99624610e-01]\n",
            " [9.75586653e-01]\n",
            " [1.00000000e+00]\n",
            " [9.99945760e-01]\n",
            " [9.99829173e-01]\n",
            " [1.00000000e+00]\n",
            " [9.99998689e-01]\n",
            " [9.99805152e-01]\n",
            " [9.98281240e-01]\n",
            " [1.00000000e+00]\n",
            " [9.22604680e-01]\n",
            " [1.00000000e+00]\n",
            " [9.99989033e-01]\n",
            " [9.99967813e-01]\n",
            " [9.99879718e-01]\n",
            " [9.99988198e-01]\n",
            " [9.99691367e-01]\n",
            " [1.00000000e+00]\n",
            " [9.99997616e-01]\n",
            " [1.00000000e+00]\n",
            " [9.49348748e-01]\n",
            " [9.99999762e-01]\n",
            " [9.59252775e-01]\n",
            " [9.99995828e-01]\n",
            " [9.74211156e-01]\n",
            " [1.00000000e+00]\n",
            " [9.99998927e-01]\n",
            " [9.99642253e-01]\n",
            " [9.99999166e-01]\n",
            " [1.00000000e+00]\n",
            " [9.28813279e-01]\n",
            " [9.99510765e-01]\n",
            " [9.99879956e-01]\n",
            " [9.99997854e-01]\n",
            " [9.99985695e-01]\n",
            " [9.99996066e-01]\n",
            " [8.78423154e-02]\n",
            " [9.99848962e-01]\n",
            " [9.94606674e-01]\n",
            " [9.85736549e-01]\n",
            " [9.99973774e-01]\n",
            " [1.00000000e+00]\n",
            " [1.00000000e+00]\n",
            " [1.00000000e+00]\n",
            " [9.99981880e-01]\n",
            " [1.00000000e+00]\n",
            " [9.78296757e-01]\n",
            " [9.67288911e-01]\n",
            " [9.99887943e-01]\n",
            " [9.99749124e-01]\n",
            " [9.99999523e-01]\n",
            " [9.99272645e-01]\n",
            " [9.99874473e-01]\n",
            " [9.97975051e-01]\n",
            " [1.00000000e+00]\n",
            " [9.99975085e-01]\n",
            " [5.51437251e-02]\n",
            " [9.97883260e-01]\n",
            " [9.75607634e-01]\n",
            " [1.00000000e+00]\n",
            " [9.99999762e-01]\n",
            " [9.99997616e-01]\n",
            " [1.00000000e+00]\n",
            " [9.99344409e-01]\n",
            " [9.99437153e-01]\n",
            " [9.99997973e-01]\n",
            " [9.97886240e-01]\n",
            " [9.99889970e-01]\n",
            " [1.00000000e+00]\n",
            " [9.37708795e-01]\n",
            " [8.29252839e-01]\n",
            " [9.30986881e-01]\n",
            " [9.97389138e-01]\n",
            " [9.88056183e-01]\n",
            " [1.00000000e+00]\n",
            " [9.99933720e-01]\n",
            " [1.00000000e+00]\n",
            " [9.98574495e-01]\n",
            " [1.00000000e+00]\n",
            " [9.99997973e-01]\n",
            " [9.99973536e-01]\n",
            " [9.99969959e-01]\n",
            " [9.80586767e-01]\n",
            " [1.28114177e-02]\n",
            " [9.99998450e-01]\n",
            " [9.99978304e-01]\n",
            " [9.94935632e-01]\n",
            " [9.79718208e-01]\n",
            " [9.99394655e-01]\n",
            " [1.00000000e+00]\n",
            " [1.46123126e-01]\n",
            " [9.99998450e-01]\n",
            " [1.00000000e+00]\n",
            " [1.00000000e+00]\n",
            " [9.99997973e-01]\n",
            " [1.00000000e+00]\n",
            " [9.95699763e-01]\n",
            " [7.12415874e-01]\n",
            " [1.00000000e+00]\n",
            " [1.00000000e+00]\n",
            " [1.00000000e+00]\n",
            " [1.00000000e+00]\n",
            " [1.00000000e+00]\n",
            " [9.99740303e-01]\n",
            " [8.47913623e-01]\n",
            " [9.99984622e-01]\n",
            " [9.99988556e-01]\n",
            " [8.98304164e-01]\n",
            " [9.98890579e-01]\n",
            " [1.00000000e+00]\n",
            " [9.97925997e-01]\n",
            " [9.99999404e-01]\n",
            " [9.97527182e-01]\n",
            " [1.00000000e+00]\n",
            " [9.95531380e-01]\n",
            " [7.53704727e-01]\n",
            " [8.79498184e-01]\n",
            " [2.41649196e-01]\n",
            " [9.99998093e-01]\n",
            " [9.71800029e-01]\n",
            " [9.98581409e-01]\n",
            " [9.99703586e-01]\n",
            " [9.99984741e-01]\n",
            " [9.99881625e-01]\n",
            " [1.23268284e-01]\n",
            " [9.67171013e-01]\n",
            " [1.00000000e+00]\n",
            " [1.00000000e+00]\n",
            " [1.00000000e+00]\n",
            " [1.00000000e+00]\n",
            " [9.93866146e-01]\n",
            " [9.83488023e-01]\n",
            " [9.99982595e-01]\n",
            " [9.99999881e-01]\n",
            " [1.00000000e+00]\n",
            " [9.98408854e-01]\n",
            " [9.99922752e-01]\n",
            " [9.98042822e-01]\n",
            " [9.09051061e-01]\n",
            " [9.81737375e-01]\n",
            " [1.00000000e+00]\n",
            " [1.00000000e+00]\n",
            " [9.99668002e-01]\n",
            " [1.00000000e+00]\n",
            " [4.99498159e-01]\n",
            " [9.82327104e-01]\n",
            " [9.62149382e-01]\n",
            " [9.87923801e-01]\n",
            " [1.00000000e+00]\n",
            " [9.87273097e-01]\n",
            " [9.99556839e-01]\n",
            " [6.58631146e-01]\n",
            " [9.78994012e-01]\n",
            " [9.98275161e-01]\n",
            " [5.47371745e-01]\n",
            " [9.82900560e-01]\n",
            " [9.83417928e-01]\n",
            " [7.20007956e-01]\n",
            " [9.99442279e-01]\n",
            " [9.99749482e-01]\n",
            " [9.99066055e-01]\n",
            " [9.91084456e-01]\n",
            " [9.99845862e-01]\n",
            " [1.00000000e+00]\n",
            " [1.00000000e+00]\n",
            " [9.99999881e-01]\n",
            " [9.99998689e-01]\n",
            " [9.99991298e-01]\n",
            " [1.00000000e+00]\n",
            " [1.00000000e+00]\n",
            " [8.82093430e-01]\n",
            " [9.99991179e-01]\n",
            " [1.00000000e+00]\n",
            " [9.69553173e-01]\n",
            " [1.00000000e+00]\n",
            " [1.00000000e+00]\n",
            " [9.85060275e-01]\n",
            " [1.00000000e+00]\n",
            " [9.99822080e-01]\n",
            " [8.49910080e-01]\n",
            " [9.99913812e-01]\n",
            " [5.93492150e-01]\n",
            " [1.00000000e+00]\n",
            " [1.00000000e+00]\n",
            " [9.46768761e-01]\n",
            " [9.99993920e-01]\n",
            " [9.99987602e-01]\n",
            " [1.00000000e+00]\n",
            " [1.00000000e+00]\n",
            " [1.00000000e+00]\n",
            " [9.93093252e-01]\n",
            " [1.00000000e+00]\n",
            " [1.00000000e+00]\n",
            " [1.00000000e+00]\n",
            " [9.84214067e-01]\n",
            " [9.99996424e-01]\n",
            " [9.99951363e-01]\n",
            " [9.99999881e-01]\n",
            " [9.97048676e-01]\n",
            " [9.99944091e-01]\n",
            " [9.99987364e-01]\n",
            " [9.99999881e-01]\n",
            " [9.45852399e-01]\n",
            " [1.00000000e+00]\n",
            " [1.00000000e+00]\n",
            " [9.99886990e-01]\n",
            " [3.41701657e-02]\n",
            " [1.00000000e+00]\n",
            " [9.84317899e-01]\n",
            " [9.98903036e-01]\n",
            " [9.99990702e-01]\n",
            " [9.99999642e-01]\n",
            " [9.99990702e-01]\n",
            " [9.98870075e-01]\n",
            " [9.48371887e-01]\n",
            " [1.00000000e+00]\n",
            " [9.99999881e-01]\n",
            " [9.98839557e-01]\n",
            " [9.99999762e-01]\n",
            " [9.96101260e-01]\n",
            " [1.00000000e+00]\n",
            " [9.85536635e-01]\n",
            " [9.99993682e-01]\n",
            " [1.00000000e+00]\n",
            " [9.91522431e-01]\n",
            " [1.00000000e+00]\n",
            " [9.99251306e-01]\n",
            " [1.00000000e+00]\n",
            " [9.99997854e-01]\n",
            " [9.99998927e-01]\n",
            " [9.99999166e-01]\n",
            " [9.99999046e-01]\n",
            " [9.96837616e-01]\n",
            " [9.99998808e-01]\n",
            " [9.94634032e-01]\n",
            " [9.92932796e-01]\n",
            " [1.00000000e+00]\n",
            " [8.69905710e-01]\n",
            " [9.84214067e-01]\n",
            " [9.97557640e-01]\n",
            " [9.92006838e-01]\n",
            " [9.99969363e-01]\n",
            " [9.99481261e-01]\n",
            " [9.93161798e-01]\n",
            " [9.46284771e-01]\n",
            " [7.68504381e-01]\n",
            " [9.99657750e-01]\n",
            " [9.92822230e-01]\n",
            " [9.99993086e-01]\n",
            " [1.00000000e+00]\n",
            " [9.99999285e-01]\n",
            " [1.00000000e+00]\n",
            " [9.99942183e-01]\n",
            " [8.61236155e-01]\n",
            " [9.99625444e-01]\n",
            " [3.70860696e-01]\n",
            " [1.00000000e+00]\n",
            " [9.93916452e-01]\n",
            " [1.00000000e+00]\n",
            " [9.99991417e-01]\n",
            " [9.94540274e-01]\n",
            " [6.76616192e-01]\n",
            " [1.00000000e+00]\n",
            " [9.99932170e-01]\n",
            " [9.93161798e-01]\n",
            " [1.00000000e+00]\n",
            " [9.99999881e-01]\n",
            " [1.00000000e+00]\n",
            " [9.99922991e-01]\n",
            " [7.55325854e-01]\n",
            " [1.00000000e+00]\n",
            " [7.96547115e-01]\n",
            " [9.97216940e-01]\n",
            " [9.20023322e-01]\n",
            " [9.47440341e-02]\n",
            " [9.99893427e-01]\n",
            " [1.00000000e+00]\n",
            " [9.86496866e-01]\n",
            " [1.00000000e+00]\n",
            " [2.78158963e-01]\n",
            " [9.96984065e-01]\n",
            " [9.52637672e-01]\n",
            " [9.99995947e-01]\n",
            " [1.00000000e+00]\n",
            " [1.00000000e+00]\n",
            " [9.90474522e-01]\n",
            " [9.99700546e-01]\n",
            " [9.97078896e-01]]\n",
            "Test labels [0 0 0 0 0 0 0 0 0 0 0 0 0 0 0 0 0 0 0 0 0 0 0 0 0 0 0 0 0 0 0 0 0 0 0 0 0\n",
            " 0 0 0 0 0 0 0 0 0 0 0 0 0 0 0 0 0 0 0 0 0 0 0 0 0 0 0 0 0 0 0 0 0 0 0 0 0\n",
            " 0 0 0 0 0 0 0 0 0 0 0 0 0 0 0 0 0 0 0 0 0 0 0 0 0 0 0 0 0 0 0 0 0 0 0 0 0\n",
            " 0 0 0 0 0 0 0 0 0 0 0 0 0 0 0 0 0 0 0 0 0 0 0 0 0 0 0 0 0 0 0 0 0 0 0 0 0\n",
            " 0 0 0 0 0 0 0 0 0 0 0 0 0 0 0 0 0 0 0 0 0 0 0 0 0 0 0 0 0 0 0 0 0 0 0 0 0\n",
            " 0 0 0 0 0 0 0 0 0 0 0 0 0 0 0 0 0 0 0 0 0 0 0 0 0 0 0 0 0 0 0 0 0 0 0 0 0\n",
            " 0 0 0 0 0 0 0 0 0 0 0 0 1 1 1 1 1 1 1 1 1 1 1 1 1 1 1 1 1 1 1 1 1 1 1 1 1\n",
            " 1 1 1 1 1 1 1 1 1 1 1 1 1 1 1 1 1 1 1 1 1 1 1 1 1 1 1 1 1 1 1 1 1 1 1 1 1\n",
            " 1 1 1 1 1 1 1 1 1 1 1 1 1 1 1 1 1 1 1 1 1 1 1 1 1 1 1 1 1 1 1 1 1 1 1 1 1\n",
            " 1 1 1 1 1 1 1 1 1 1 1 1 1 1 1 1 1 1 1 1 1 1 1 1 1 1 1 1 1 1 1 1 1 1 1 1 1\n",
            " 1 1 1 1 1 1 1 1 1 1 1 1 1 1 1 1 1 1 1 1 1 1 1 1 1 1 1 1 1 1 1 1 1 1 1 1 1\n",
            " 1 1 1 1 1 1 1 1 1 1 1 1 1 1 1 1 1 1 1 1 1 1 1 1 1 1 1 1 1 1 1 1 1 1 1 1 1\n",
            " 1 1 1 1 1 1 1 1 1 1 1 1 1 1 1 1 1 1 1 1 1 1 1 1 1 1 1 1 1 1 1 1 1 1 1 1 1\n",
            " 1 1 1 1 1 1 1 1 1 1 1 1 1 1 1 1 1 1 1 1 1 1 1 1 1 1 1 1 1 1 1 1 1 1 1 1 1\n",
            " 1 1 1 1 1 1 1 1 1 1 1 1 1 1 1 1 1 1 1 1 1 1 1 1 1 1 1 1 1 1 1 1 1 1 1 1 1\n",
            " 1 1 1 1 1 1 1 1 1 1 1 1 1 1 1 1 1 1 1 1 1 1 1 1 1 1 1 1 1 1 1 1 1 1 1 1 1\n",
            " 1 1 1 1 1 1 1 1 1 1 1 1 1 1 1 1 1 1 1 1 1 1 1 1 1 1 1 1 1 1 1 1]\n",
            "Predict classes [0 0 0 0 0 0 0 0 0 0 0 0 0 0 0 0 0 0 0 0 0 0 0 0 0 0 0 0 0 0 0 0 0 0 0 0 0\n",
            " 0 0 0 0 0 0 0 0 0 0 0 0 0 0 1 0 0 0 0 0 0 0 0 1 1 0 0 0 0 1 0 1 0 0 1 0 0\n",
            " 0 0 0 0 0 0 0 0 0 0 1 1 0 0 0 0 1 0 0 0 0 0 0 1 0 0 0 1 1 0 1 0 0 1 0 0 1\n",
            " 0 0 0 0 0 0 0 0 1 0 1 1 0 0 0 1 0 0 1 1 0 1 0 0 0 0 1 0 0 0 1 0 1 0 0 0 0\n",
            " 0 0 0 0 0 0 0 0 0 0 0 0 0 0 0 0 0 0 0 0 0 0 1 0 0 0 0 0 0 0 0 0 0 0 0 0 0\n",
            " 0 0 0 0 0 0 0 0 0 0 0 0 0 0 0 0 0 0 0 0 0 0 0 0 0 0 1 0 0 0 0 0 0 0 0 0 0\n",
            " 0 0 0 0 0 0 0 0 0 0 0 0 1 1 1 1 1 1 1 1 1 1 1 1 0 1 1 1 1 1 1 1 1 1 1 1 1\n",
            " 1 1 1 1 1 1 1 1 1 1 1 1 1 1 1 1 1 1 1 1 0 1 1 1 1 1 1 1 1 1 1 1 1 1 1 1 1\n",
            " 1 1 1 1 1 1 1 1 1 1 1 1 1 1 1 1 1 1 1 1 0 1 1 1 1 1 1 1 1 1 1 1 1 1 1 1 1\n",
            " 1 1 1 1 1 1 1 1 1 1 1 1 1 1 1 1 1 1 1 1 1 1 1 1 1 1 1 1 1 1 1 1 1 1 1 1 1\n",
            " 1 1 0 1 1 1 1 1 1 1 1 1 1 1 1 1 1 1 1 1 1 1 0 1 1 1 1 1 1 1 1 1 1 1 1 1 1\n",
            " 1 1 1 1 1 1 1 1 1 1 1 1 0 1 1 1 1 1 1 0 1 1 1 1 1 1 1 1 1 1 1 1 1 1 1 1 1\n",
            " 1 1 1 1 1 1 1 1 1 0 1 1 1 1 1 1 0 1 1 1 1 1 1 1 1 1 1 1 1 1 1 1 1 1 1 1 0\n",
            " 1 1 1 1 1 1 1 1 1 1 1 1 1 1 1 1 1 1 1 1 1 1 1 1 1 1 1 1 1 1 1 1 1 1 1 1 1\n",
            " 1 1 1 1 1 1 1 1 1 1 1 1 1 1 1 1 1 1 1 1 1 1 1 1 0 1 1 1 1 1 1 1 1 1 1 1 1\n",
            " 1 1 1 1 1 1 1 1 1 1 1 1 1 1 1 1 1 1 1 1 1 1 1 1 1 1 1 1 1 1 1 1 1 1 1 1 0\n",
            " 1 1 1 1 1 1 1 1 1 1 1 1 1 1 1 1 1 1 0 1 1 1 1 0 1 1 1 1 1 1 1 1]\n",
            "\n",
            "Test metrics\n",
            "----------------\n",
            "Confusion matrix\n",
            " [[207  27]\n",
            " [ 14 376]]\n",
            "Accuracy: 93.43%\n",
            "Precision: 93.3%\n",
            "Recall: 96.41%\n",
            "F1-score: 94.83%\n",
            "ROC AUC: 0.975937\n",
            "\n",
            "Train metric\n",
            "----------------\n",
            "Train accuracy: 95.73\n"
          ]
        }
      ],
      "source": [
        "from sklearn.metrics import accuracy_score, confusion_matrix, precision_score, recall_score, f1_score, roc_auc_score, roc_curve, auc\n",
        "\n",
        "predict_probs = model.predict(test_data)\n",
        "#predict_classes = model.predict_classes(test_data, verbose=0)\n",
        "print(predict_probs)\n",
        "\n",
        "# Calculate predicted classes using the predicted probabilities (assuming a threshold of 0.5)\n",
        "predict_classes = np.round(predict_probs)\n",
        "predict_classes = np.array(predict_classes).reshape(test_labels.shape).astype(int)\n",
        "\n",
        "print(\"Test labels\", test_labels)\n",
        "print(\"Predict classes\", predict_classes)\n",
        "\n",
        "\n",
        "print ('\\nTest metrics\\n----------------')\n",
        "cm = confusion_matrix(test_labels, predict_classes)\n",
        "print ('Confusion matrix\\n', cm)\n",
        "# accuracy: (tp + tn) / (p + n)\n",
        "accuracy = accuracy_score(test_labels, predict_classes) * 100\n",
        "print('Accuracy: {}%'.format(np.round(accuracy,2)))\n",
        "# precision tp / (tp + fp)\n",
        "precision = precision_score(test_labels, predict_classes) * 100\n",
        "print('Precision: {}%'.format(np.round(precision,2)))\n",
        "# recall: tp / (tp + fn)\n",
        "recall = recall_score(test_labels, predict_classes) * 100\n",
        "print('Recall: {}%'.format(np.round(recall,2)))\n",
        "# f1: 2 tp / (2 tp + fp + fn)\n",
        "f1 = f1_score(test_labels, predict_classes) * 100\n",
        "print('F1-score: {}%'.format(np.round(2* precision * recall / (precision + recall),2)))\n",
        "\n",
        "auc = roc_auc_score(test_labels, predict_probs)\n",
        "print('ROC AUC: %f' % auc)\n",
        "\n",
        "print('\\nTrain metric\\n----------------')\n",
        "print('Train accuracy: {}'.format(np.round((hist.history['accuracy'][-1])*100, 2)))"
      ]
    }
  ],
  "metadata": {
    "colab": {
      "provenance": []
    },
    "kernelspec": {
      "display_name": "Python 3",
      "name": "python3"
    },
    "language_info": {
      "codemirror_mode": {
        "name": "ipython",
        "version": 3
      },
      "file_extension": ".py",
      "mimetype": "text/x-python",
      "name": "python",
      "nbconvert_exporter": "python",
      "pygments_lexer": "ipython3",
      "version": "3.6.4"
    }
  },
  "nbformat": 4,
  "nbformat_minor": 0
}