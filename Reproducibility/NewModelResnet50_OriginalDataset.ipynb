{
  "cells": [
    {
      "cell_type": "markdown",
      "metadata": {
        "id": "NC3gnPTZcC3H"
      },
      "source": [
        "## Import Libraries"
      ]
    },
    {
      "cell_type": "code",
      "execution_count": null,
      "metadata": {
        "id": "DNBMjm1ncC3I"
      },
      "outputs": [],
      "source": [
        "import numpy as np\n",
        "import pandas as pd\n",
        "import tensorflow as tf\n",
        "from tensorflow import keras\n",
        "from tensorflow.keras.preprocessing.image import img_to_array,ImageDataGenerator,load_img\n",
        "\n",
        "import matplotlib.pyplot as plt\n",
        "import seaborn as sns\n",
        "import glob\n",
        "import cv2\n",
        "from keras import Sequential\n",
        "from keras.layers import Flatten,Dense,BatchNormalization,Dropout,LeakyReLU,GlobalAveragePooling2D\n",
        "from keras.optimizers import Adam,RMSprop\n",
        "from keras.losses import BinaryCrossentropy\n",
        "from keras.applications import ResNet50V2\n",
        "from keras.callbacks import EarlyStopping\n",
        "import os"
      ]
    },
    {
      "cell_type": "markdown",
      "metadata": {
        "id": "USI_4r-pcC3I"
      },
      "source": [
        "## Loading Data & Data Processing"
      ]
    },
    {
      "cell_type": "code",
      "execution_count": null,
      "metadata": {
        "colab": {
          "base_uri": "https://localhost:8080/"
        },
        "id": "KgA0hYd5cLNY",
        "outputId": "1bb4a53f-6164-4813-d39c-c189f0e03653"
      },
      "outputs": [
        {
          "output_type": "stream",
          "name": "stdout",
          "text": [
            "Mounted at /content/drive\n"
          ]
        }
      ],
      "source": [
        "from google.colab import drive\n",
        "drive.mount('/content/drive')"
      ]
    },
    {
      "cell_type": "code",
      "execution_count": null,
      "metadata": {
        "id": "00buS_XCczAO"
      },
      "outputs": [],
      "source": [
        "import os\n",
        "input_path = '/content/drive/MyDrive/chest_xray/'\n",
        "\n",
        "counter_normal_train = len(os.listdir(input_path + 'train' + '/NORMAL'))\n",
        "counter_infect_train = len(os.listdir(input_path + 'train' + '/PNEUMONIA'))\n",
        "\n",
        "counter_normal_test = len(os.listdir(input_path + 'test' + '/NORMAL'))\n",
        "counter_infect_test = len(os.listdir(input_path + 'test' +  '/PNEUMONIA'))\n",
        "\n",
        "counter_normal_val = len(os.listdir(input_path + 'val' + '/NORMAL'))\n",
        "counter_infect_val = len(os.listdir(input_path + 'val' +  '/PNEUMONIA'))\n",
        "\n",
        "counter_all = counter_normal_train + counter_infect_train + counter_normal_test + counter_infect_test + counter_normal_val +  counter_infect_val\n",
        "counter_all_healthy = counter_normal_train + counter_normal_test + counter_normal_val\n",
        "counter_all_infect = counter_infect_train + counter_infect_test + counter_infect_val"
      ]
    },
    {
      "cell_type": "code",
      "execution_count": null,
      "metadata": {
        "colab": {
          "base_uri": "https://localhost:8080/"
        },
        "id": "6jslvWvhcC3I",
        "outputId": "28b0637d-6fb0-4ad6-e272-1a01c5e84c94"
      },
      "outputs": [
        {
          "output_type": "stream",
          "name": "stdout",
          "text": [
            "number of normal images: 1613\n",
            "number of pneumonia images: 4370\n"
          ]
        }
      ],
      "source": [
        "number_of_normal_img = counter_all_healthy\n",
        "number_of_pneumonia_img = counter_all_infect\n",
        "print(\"number of normal images:\", number_of_normal_img)\n",
        "print(\"number of pneumonia images:\", number_of_pneumonia_img)"
      ]
    },
    {
      "cell_type": "code",
      "execution_count": null,
      "metadata": {
        "colab": {
          "base_uri": "https://localhost:8080/",
          "height": 681
        },
        "id": "5jAZyyJdcC3I",
        "outputId": "233bf845-36df-4e40-8d41-44e9ca6ae80a"
      },
      "outputs": [
        {
          "output_type": "display_data",
          "data": {
            "text/plain": [
              "<Figure size 800x800 with 1 Axes>"
            ],
            "image/png": "[encoded data removed]"
          },
          "metadata": {}
        }
      ],
      "source": [
        "sns.set_theme(style=\"whitegrid\")\n",
        "plt.figure(figsize = (8,8))\n",
        "ax = sns.barplot( x = [\"Normal\", \"Pneumonia\"], y = [number_of_normal_img, number_of_pneumonia_img])"
      ]
    },
    {
      "cell_type": "markdown",
      "metadata": {
        "id": "bEG5A0uucC3J"
      },
      "source": [
        "## Data Visualization"
      ]
    },
    {
      "cell_type": "markdown",
      "metadata": {
        "id": "MIqALYWZcC3J"
      },
      "source": [
        "## Data Augmentation"
      ]
    },
    {
      "cell_type": "code",
      "execution_count": null,
      "metadata": {
        "id": "ct4-R44jcC3J"
      },
      "outputs": [],
      "source": [
        "train_val_generator = ImageDataGenerator(rescale=1./255,horizontal_flip=True,zoom_range=0.3)\n",
        "test_generator = ImageDataGenerator(rescale=1./255)"
      ]
    },
    {
      "cell_type": "code",
      "execution_count": null,
      "metadata": {
        "colab": {
          "base_uri": "https://localhost:8080/"
        },
        "id": "pIYUX4ogcC3J",
        "outputId": "a1c628e9-ad10-4cbe-e404-634b7c80e04a"
      },
      "outputs": [
        {
          "output_type": "stream",
          "name": "stdout",
          "text": [
            "Found 5303 images belonging to 2 classes.\n"
          ]
        }
      ],
      "source": [
        "train = train_val_generator.flow_from_directory(input_path + 'train',\n",
        "                                               batch_size=128,\n",
        "                                               target_size=(220,220),\n",
        "                                               color_mode=\"rgb\",\n",
        "                                               class_mode=\"binary\",\n",
        "                                               shuffle=True,\n",
        "                                               seed=42,\n",
        "                                               subset=\"training\")\n",
        "\n"
      ]
    },
    {
      "cell_type": "code",
      "execution_count": null,
      "metadata": {
        "colab": {
          "base_uri": "https://localhost:8080/"
        },
        "id": "VbDnK7wTcC3J",
        "outputId": "f8afa57e-cc92-40d3-d8ec-4b4d99c7b5cf"
      },
      "outputs": [
        {
          "output_type": "stream",
          "name": "stdout",
          "text": [
            "Found 16 images belonging to 2 classes.\n"
          ]
        }
      ],
      "source": [
        "val = train_val_generator.flow_from_directory(directory = input_path + 'val',\n",
        "                                               batch_size=4,\n",
        "                                               target_size=(220,220),\n",
        "                                               color_mode=\"rgb\",\n",
        "                                               class_mode=\"binary\",\n",
        "                                               shuffle=True,\n",
        "                                               seed=42)"
      ]
    },
    {
      "cell_type": "code",
      "execution_count": null,
      "metadata": {
        "colab": {
          "base_uri": "https://localhost:8080/"
        },
        "id": "CpRVzk8acC3J",
        "outputId": "5e9401e6-a0c0-4df9-d80f-b5621e60d867"
      },
      "outputs": [
        {
          "output_type": "stream",
          "name": "stdout",
          "text": [
            "Found 664 images belonging to 2 classes.\n"
          ]
        }
      ],
      "source": [
        "test = test_generator.flow_from_directory(directory = input_path + 'test',\n",
        "                                          batch_size=32,\n",
        "                                          target_size=(220,220),\n",
        "                                          color_mode=\"rgb\",\n",
        "                                          class_mode=\"binary\")"
      ]
    },
    {
      "cell_type": "markdown",
      "metadata": {
        "id": "gAuZ5P8tcC3J"
      },
      "source": [
        "## Deep Residual Network (ResNet)"
      ]
    },
    {
      "cell_type": "code",
      "execution_count": null,
      "metadata": {
        "colab": {
          "base_uri": "https://localhost:8080/"
        },
        "id": "CeM6jOBccC3J",
        "outputId": "3b3d1186-38bf-4935-ff91-7d32ccf48925"
      },
      "outputs": [
        {
          "output_type": "stream",
          "name": "stdout",
          "text": [
            "Downloading data from https://storage.googleapis.com/tensorflow/keras-applications/resnet/resnet50v2_weights_tf_dim_ordering_tf_kernels_notop.h5\n",
            "94668760/94668760 [==============================] - 1s 0us/step\n"
          ]
        }
      ],
      "source": [
        "resnet50 = ResNet50V2(weights = \"imagenet\", input_shape = (220,220,3), include_top = False)"
      ]
    },
    {
      "cell_type": "code",
      "execution_count": null,
      "metadata": {
        "id": "e1vwM9docC3J"
      },
      "outputs": [],
      "source": [
        "for layer in resnet50.layers:\n",
        "    layer.trainable = False"
      ]
    },
    {
      "cell_type": "code",
      "execution_count": null,
      "metadata": {
        "id": "-GCeLVxwcC3J"
      },
      "outputs": [],
      "source": [
        "model = Sequential()\n",
        "\n",
        "model.add(resnet50)\n",
        "\n",
        "for layer in resnet50.layers:\n",
        "    layer.trainable = False\n",
        "\n",
        "model.add(Flatten())\n",
        "\n",
        "model.add(Dense(units = 128, activation = \"relu\"))\n",
        "model.add(Dropout(0.5))\n",
        "\n",
        "model.add(Dense(units = 1, activation = \"sigmoid\"))\n"
      ]
    },
    {
      "cell_type": "markdown",
      "metadata": {
        "id": "270_QbFBcC3J"
      },
      "source": [
        "## Compining the Model"
      ]
    },
    {
      "cell_type": "code",
      "execution_count": null,
      "metadata": {
        "id": "OJrzCc_FcC3J"
      },
      "outputs": [],
      "source": [
        "model.compile(optimizer = \"adam\", loss = \"binary_crossentropy\", metrics = [\"accuracy\"])"
      ]
    },
    {
      "cell_type": "code",
      "execution_count": null,
      "metadata": {
        "colab": {
          "base_uri": "https://localhost:8080/"
        },
        "id": "LYkcUmDccC3J",
        "outputId": "40827576-d267-403c-bdd1-0fbc4ae282ce"
      },
      "outputs": [
        {
          "output_type": "stream",
          "name": "stdout",
          "text": [
            "Model: \"sequential\"\n",
            "_________________________________________________________________\n",
            " Layer (type)                Output Shape              Param #   \n",
            "=================================================================\n",
            " resnet50v2 (Functional)     (None, 7, 7, 2048)        23564800  \n",
            "                                                                 \n",
            " flatten (Flatten)           (None, 100352)            0         \n",
            "                                                                 \n",
            " dense (Dense)               (None, 128)               12845184  \n",
            "                                                                 \n",
            " dropout (Dropout)           (None, 128)               0         \n",
            "                                                                 \n",
            " dense_1 (Dense)             (None, 1)                 129       \n",
            "                                                                 \n",
            "=================================================================\n",
            "Total params: 36,410,113\n",
            "Trainable params: 12,845,313\n",
            "Non-trainable params: 23,564,800\n",
            "_________________________________________________________________\n"
          ]
        }
      ],
      "source": [
        "model.summary()"
      ]
    },
    {
      "cell_type": "code",
      "execution_count": null,
      "metadata": {
        "colab": {
          "base_uri": "https://localhost:8080/",
          "height": 644
        },
        "id": "HmH6NhpWcC3J",
        "outputId": "a0512736-e9cf-4b9a-e693-2de674cb2789"
      },
      "outputs": [
        {
          "output_type": "execute_result",
          "data": {
            "image/png": "[encoded data removed]",
            "text/plain": [
              "<IPython.core.display.Image object>"
            ]
          },
          "metadata": {},
          "execution_count": 20
        }
      ],
      "source": [
        "tf.keras.utils.plot_model(\n",
        "    model, to_file='model1.png', show_layer_names=True, show_shapes=True)\n",
        "\n"
      ]
    },
    {
      "cell_type": "code",
      "execution_count": null,
      "metadata": {
        "colab": {
          "base_uri": "https://localhost:8080/"
        },
        "id": "c6H5mq1wcC3J",
        "outputId": "dd00b49b-1d51-44e2-bace-aa0ceb273092"
      },
      "outputs": [
        {
          "output_type": "stream",
          "name": "stdout",
          "text": [
            "Epoch 1/11\n",
            "42/42 [==============================] - 1842s 43s/step - loss: 1.1497 - accuracy: 0.8610 - val_loss: 0.2697 - val_accuracy: 0.9081\n",
            "Epoch 2/11\n",
            "42/42 [==============================] - 1266s 30s/step - loss: 0.1779 - accuracy: 0.9300 - val_loss: 0.2698 - val_accuracy: 0.9066\n",
            "Epoch 3/11\n"
          ]
        }
      ],
      "source": [
        "\n",
        "import time\n",
        "\n",
        "start_time = time.time()\n",
        "hist = model.fit(train,validation_data=test,epochs=11)\n",
        "model.save(\"originaldataset_resnet50kaggle.h5\")\n",
        "\n",
        "end_time = time.time()\n",
        "elapsed_time = end_time - start_time\n",
        "\n",
        "print(f\"Total training time: {elapsed_time} seconds\")\n"
      ]
    },
    {
      "cell_type": "markdown",
      "metadata": {
        "id": "za_ePovqcC3K"
      },
      "source": [
        "## Evaluate the Model"
      ]
    },
    {
      "cell_type": "code",
      "execution_count": null,
      "metadata": {
        "id": "2qLDFu5ocC3K"
      },
      "outputs": [],
      "source": [
        "plt.figure(figsize=(6,6))\n",
        "plt.plot(hist.history['loss'], color='b', label=\"Training loss\")\n",
        "plt.plot(hist.history['val_loss'], color='r', label=\"Validation loss\")\n",
        "plt.legend()\n",
        "plt.show()\n",
        "\n",
        "plt.figure()\n",
        "\n",
        "plt.figure(figsize=(6,6))\n",
        "plt.plot(hist.history['accuracy'], color='b', label=\"Training accuracy\")\n",
        "plt.plot(hist.history['val_accuracy'], color='r',label=\"Validation accuracy\")\n",
        "plt.legend(loc = \"lower right\")\n",
        "plt.show()"
      ]
    },
    {
      "cell_type": "code",
      "execution_count": null,
      "metadata": {
        "colab": {
          "base_uri": "https://localhost:8080/",
          "height": 328
        },
        "id": "I0zNt_6TcC3K",
        "outputId": "459099f9-9b83-4a8a-88ef-051b65efc680"
      },
      "outputs": [
        {
          "ename": "ValueError",
          "evalue": "ignored",
          "output_type": "error",
          "traceback": [
            "\u001b[0;31m---------------------------------------------------------------------------\u001b[0m",
            "\u001b[0;31mValueError\u001b[0m                                Traceback (most recent call last)",
            "\u001b[0;32m<ipython-input-16-6562533661b6>\u001b[0m in \u001b[0;36m<cell line: 1>\u001b[0;34m()\u001b[0m\n\u001b[0;32m----> 1\u001b[0;31m \u001b[0mtest_results\u001b[0m \u001b[0;34m=\u001b[0m \u001b[0mmodel\u001b[0m\u001b[0;34m.\u001b[0m\u001b[0mevaluate\u001b[0m\u001b[0;34m(\u001b[0m\u001b[0;34m)\u001b[0m\u001b[0;34m\u001b[0m\u001b[0;34m\u001b[0m\u001b[0m\n\u001b[0m",
            "\u001b[0;32m/usr/local/lib/python3.10/dist-packages/keras/src/utils/traceback_utils.py\u001b[0m in \u001b[0;36merror_handler\u001b[0;34m(*args, **kwargs)\u001b[0m\n\u001b[1;32m     68\u001b[0m             \u001b[0;31m# To get the full stack trace, call:\u001b[0m\u001b[0;34m\u001b[0m\u001b[0;34m\u001b[0m\u001b[0m\n\u001b[1;32m     69\u001b[0m             \u001b[0;31m# `tf.debugging.disable_traceback_filtering()`\u001b[0m\u001b[0;34m\u001b[0m\u001b[0;34m\u001b[0m\u001b[0m\n\u001b[0;32m---> 70\u001b[0;31m             \u001b[0;32mraise\u001b[0m \u001b[0me\u001b[0m\u001b[0;34m.\u001b[0m\u001b[0mwith_traceback\u001b[0m\u001b[0;34m(\u001b[0m\u001b[0mfiltered_tb\u001b[0m\u001b[0;34m)\u001b[0m \u001b[0;32mfrom\u001b[0m \u001b[0;32mNone\u001b[0m\u001b[0;34m\u001b[0m\u001b[0;34m\u001b[0m\u001b[0m\n\u001b[0m\u001b[1;32m     71\u001b[0m         \u001b[0;32mfinally\u001b[0m\u001b[0;34m:\u001b[0m\u001b[0;34m\u001b[0m\u001b[0;34m\u001b[0m\u001b[0m\n\u001b[1;32m     72\u001b[0m             \u001b[0;32mdel\u001b[0m \u001b[0mfiltered_tb\u001b[0m\u001b[0;34m\u001b[0m\u001b[0;34m\u001b[0m\u001b[0m\n",
            "\u001b[0;32m/usr/local/lib/python3.10/dist-packages/keras/src/engine/data_adapter.py\u001b[0m in \u001b[0;36mselect_data_adapter\u001b[0;34m(x, y)\u001b[0m\n\u001b[1;32m   1103\u001b[0m     \u001b[0;32mif\u001b[0m \u001b[0;32mnot\u001b[0m \u001b[0madapter_cls\u001b[0m\u001b[0;34m:\u001b[0m\u001b[0;34m\u001b[0m\u001b[0;34m\u001b[0m\u001b[0m\n\u001b[1;32m   1104\u001b[0m         \u001b[0;31m# TODO(scottzhu): This should be a less implementation-specific error.\u001b[0m\u001b[0;34m\u001b[0m\u001b[0;34m\u001b[0m\u001b[0m\n\u001b[0;32m-> 1105\u001b[0;31m         raise ValueError(\n\u001b[0m\u001b[1;32m   1106\u001b[0m             \"Failed to find data adapter that can handle input: {}, {}\".format(\n\u001b[1;32m   1107\u001b[0m                 \u001b[0m_type_name\u001b[0m\u001b[0;34m(\u001b[0m\u001b[0mx\u001b[0m\u001b[0;34m)\u001b[0m\u001b[0;34m,\u001b[0m \u001b[0m_type_name\u001b[0m\u001b[0;34m(\u001b[0m\u001b[0my\u001b[0m\u001b[0;34m)\u001b[0m\u001b[0;34m\u001b[0m\u001b[0;34m\u001b[0m\u001b[0m\n",
            "\u001b[0;31mValueError\u001b[0m: Failed to find data adapter that can handle input: <class 'NoneType'>, <class 'NoneType'>"
          ]
        }
      ],
      "source": [
        "test_results = model.evaluate()"
      ]
    },
    {
      "cell_type": "code",
      "execution_count": null,
      "metadata": {
        "id": "sOkhI_eInwXl"
      },
      "outputs": [],
      "source": [
        "def process_images(dimensions):\n",
        "\n",
        "\n",
        "  test_data = []\n",
        "  test_labels = []\n",
        "\n",
        "  for condition in ['/NORMAL/', '/PNEUMONIA/']:\n",
        "    for image in (os.listdir(input_path + 'test' + condition)):\n",
        "      image = plt.imread(input_path + 'test' + condition + image)\n",
        "      image = cv2.resize(image, (dimensions, dimensions))\n",
        "      image = np.dstack([image, image, image])\n",
        "      image = image.astype('float32') / 255\n",
        "      if condition == '/NORMAL/':\n",
        "        label = 0\n",
        "      elif condition == '/PNEUMONIA/':\n",
        "        label = 1\n",
        "\n",
        "\n",
        "      test_data.append(image)\n",
        "      test_labels.append(label)\n",
        "\n",
        "  test_data = np.array(test_data)\n",
        "  test_labels = np.array(test_labels)\n",
        "\n",
        "  return test_data, test_labels\n"
      ]
    },
    {
      "cell_type": "code",
      "execution_count": null,
      "metadata": {
        "id": "f1BBtAlToXbz"
      },
      "outputs": [],
      "source": [
        "test_data, test_labels = process_images(220)"
      ]
    },
    {
      "cell_type": "code",
      "execution_count": null,
      "metadata": {
        "colab": {
          "base_uri": "https://localhost:8080/"
        },
        "id": "KPPkAozTaaea",
        "outputId": "db8c01e4-8e3f-4d1b-9732-ff38a4a80b16"
      },
      "outputs": [
        {
          "name": "stdout",
          "output_type": "stream",
          "text": [
            "21/21 [==============================] - 7s 148ms/step\n",
            "[[4.10775747e-03]\n",
            " [1.48848665e-03]\n",
            " [1.14916598e-04]\n",
            " [1.29585359e-02]\n",
            " [8.67065787e-02]\n",
            " [1.55706033e-02]\n",
            " [6.86082989e-03]\n",
            " [3.45319495e-05]\n",
            " [1.64634286e-04]\n",
            " [1.09027550e-02]\n",
            " [6.08766405e-03]\n",
            " [1.59253236e-02]\n",
            " [1.35044800e-03]\n",
            " [3.14434141e-01]\n",
            " [7.53039858e-05]\n",
            " [1.43907910e-05]\n",
            " [1.64361432e-01]\n",
            " [2.07011425e-03]\n",
            " [1.66252479e-01]\n",
            " [9.39642196e-04]\n",
            " [3.83735809e-04]\n",
            " [7.30685294e-02]\n",
            " [1.48431236e-05]\n",
            " [4.49213564e-01]\n",
            " [1.06743864e-05]\n",
            " [7.52649307e-01]\n",
            " [1.95167661e-02]\n",
            " [4.39390093e-02]\n",
            " [4.42421529e-03]\n",
            " [8.82970989e-02]\n",
            " [1.65029280e-02]\n",
            " [9.99956012e-01]\n",
            " [3.37456875e-02]\n",
            " [5.89229213e-03]\n",
            " [1.87508650e-02]\n",
            " [1.39508806e-02]\n",
            " [4.42882162e-03]\n",
            " [3.43791544e-02]\n",
            " [2.20806412e-02]\n",
            " [5.24943601e-03]\n",
            " [4.01609652e-02]\n",
            " [4.40035147e-10]\n",
            " [1.72914832e-03]\n",
            " [2.30850428e-01]\n",
            " [1.30994946e-01]\n",
            " [9.76755857e-01]\n",
            " [2.80329641e-05]\n",
            " [1.59851126e-02]\n",
            " [8.46381858e-02]\n",
            " [2.57281167e-03]\n",
            " [1.25695899e-01]\n",
            " [1.02938093e-01]\n",
            " [2.29264633e-03]\n",
            " [1.54470786e-01]\n",
            " [1.59334630e-01]\n",
            " [4.73867543e-02]\n",
            " [5.47133153e-04]\n",
            " [2.78571993e-03]\n",
            " [8.23389366e-03]\n",
            " [8.71212125e-01]\n",
            " [1.91454710e-05]\n",
            " [4.66385782e-02]\n",
            " [1.78180307e-01]\n",
            " [3.15960124e-02]\n",
            " [8.07255432e-02]\n",
            " [6.87387288e-02]\n",
            " [2.27830708e-02]\n",
            " [1.95965241e-03]\n",
            " [1.95230823e-02]\n",
            " [8.16019416e-01]\n",
            " [4.33608375e-06]\n",
            " [6.52117282e-02]\n",
            " [1.88133828e-02]\n",
            " [9.92180943e-01]\n",
            " [1.75462937e-05]\n",
            " [1.26097904e-04]\n",
            " [7.29335546e-02]\n",
            " [3.91052030e-02]\n",
            " [2.37054646e-05]\n",
            " [1.87472459e-02]\n",
            " [2.53543369e-02]\n",
            " [2.42235372e-03]\n",
            " [1.51891494e-02]\n",
            " [1.91369094e-03]\n",
            " [8.74640197e-02]\n",
            " [8.39869201e-04]\n",
            " [4.32831375e-03]\n",
            " [2.23020534e-03]\n",
            " [4.97039780e-03]\n",
            " [2.13325769e-02]\n",
            " [3.77709195e-02]\n",
            " [3.90847355e-01]\n",
            " [1.20794459e-04]\n",
            " [3.97683263e-01]\n",
            " [1.71679445e-02]\n",
            " [2.13151406e-02]\n",
            " [1.47384375e-01]\n",
            " [9.97344434e-01]\n",
            " [5.13068624e-02]\n",
            " [6.68389164e-03]\n",
            " [1.08880192e-01]\n",
            " [1.21467642e-01]\n",
            " [1.99632044e-03]\n",
            " [6.65493356e-03]\n",
            " [9.08110976e-01]\n",
            " [1.96761608e-01]\n",
            " [9.99713480e-01]\n",
            " [7.36027025e-03]\n",
            " [8.34473073e-01]\n",
            " [3.31008852e-01]\n",
            " [9.98965502e-01]\n",
            " [2.14882451e-03]\n",
            " [9.76852700e-02]\n",
            " [3.20558250e-02]\n",
            " [1.14439659e-01]\n",
            " [3.79726989e-05]\n",
            " [1.10751775e-03]\n",
            " [2.33369356e-04]\n",
            " [9.95066166e-01]\n",
            " [1.06267028e-01]\n",
            " [1.33334339e-01]\n",
            " [9.87834990e-01]\n",
            " [3.29618459e-03]\n",
            " [8.76427352e-01]\n",
            " [3.71093833e-04]\n",
            " [1.03237115e-01]\n",
            " [9.99514103e-01]\n",
            " [3.90847355e-01]\n",
            " [6.40264829e-04]\n",
            " [6.75482256e-03]\n",
            " [9.88302171e-01]\n",
            " [2.38046097e-03]\n",
            " [1.81673855e-01]\n",
            " [1.30075663e-02]\n",
            " [2.12634588e-03]\n",
            " [9.92750406e-01]\n",
            " [1.81815703e-03]\n",
            " [3.80332954e-02]\n",
            " [5.92702590e-02]\n",
            " [6.18859082e-02]\n",
            " [1.48922559e-02]\n",
            " [5.42616069e-01]\n",
            " [9.94229913e-01]\n",
            " [4.96536354e-03]\n",
            " [2.22376570e-01]\n",
            " [4.97108232e-03]\n",
            " [1.16762534e-01]\n",
            " [4.25706327e-01]\n",
            " [1.02154143e-01]\n",
            " [9.99940991e-01]\n",
            " [1.47137523e-03]\n",
            " [1.62697047e-01]\n",
            " [9.32345510e-01]\n",
            " [2.28629336e-01]\n",
            " [9.99999285e-01]\n",
            " [1.49332758e-04]\n",
            " [9.41194534e-01]\n",
            " [4.99903709e-01]\n",
            " [9.54365751e-05]\n",
            " [8.81385982e-01]\n",
            " [9.99725997e-01]\n",
            " [3.51054384e-03]\n",
            " [5.26777565e-01]\n",
            " [8.01369071e-01]\n",
            " [1.31047703e-02]\n",
            " [2.83614770e-02]\n",
            " [8.27859342e-02]\n",
            " [2.72531837e-01]\n",
            " [9.99615788e-01]\n",
            " [5.18839099e-02]\n",
            " [2.21085567e-02]\n",
            " [1.14856578e-01]\n",
            " [3.14720050e-02]\n",
            " [2.85939872e-03]\n",
            " [1.18310548e-01]\n",
            " [2.42910981e-01]\n",
            " [9.73428667e-01]\n",
            " [5.32574475e-01]\n",
            " [2.23557279e-02]\n",
            " [4.23016064e-02]\n",
            " [2.18215287e-02]\n",
            " [8.81385982e-01]\n",
            " [7.37746656e-01]\n",
            " [5.26777565e-01]\n",
            " [5.52100420e-04]\n",
            " [9.97119665e-01]\n",
            " [8.65347624e-01]\n",
            " [9.44136024e-01]\n",
            " [1.85900647e-02]\n",
            " [2.84022003e-01]\n",
            " [4.05542873e-04]\n",
            " [9.99894738e-01]\n",
            " [3.25062807e-04]\n",
            " [4.63563716e-03]\n",
            " [4.20824915e-01]\n",
            " [9.78871286e-01]\n",
            " [1.24797234e-02]\n",
            " [3.72361136e-03]\n",
            " [3.14463750e-02]\n",
            " [4.79190983e-02]\n",
            " [9.78610590e-02]\n",
            " [5.23806453e-01]\n",
            " [2.65003871e-02]\n",
            " [1.12255225e-02]\n",
            " [2.07685698e-02]\n",
            " [8.11769161e-03]\n",
            " [7.98736885e-02]\n",
            " [3.11698496e-01]\n",
            " [3.04670352e-03]\n",
            " [3.21794339e-02]\n",
            " [3.12123820e-02]\n",
            " [6.52458906e-01]\n",
            " [3.44419714e-05]\n",
            " [4.20615941e-01]\n",
            " [2.91470904e-04]\n",
            " [5.58777596e-04]\n",
            " [2.49164514e-02]\n",
            " [4.44542438e-01]\n",
            " [2.84995735e-02]\n",
            " [2.79833265e-02]\n",
            " [1.84786841e-04]\n",
            " [1.27908634e-03]\n",
            " [1.92759314e-03]\n",
            " [5.28445328e-03]\n",
            " [3.07097682e-04]\n",
            " [3.48272547e-02]\n",
            " [1.86364856e-02]\n",
            " [3.46803485e-04]\n",
            " [1.96265772e-01]\n",
            " [6.33381214e-03]\n",
            " [6.21221185e-01]\n",
            " [1.52683273e-01]\n",
            " [3.13234001e-01]\n",
            " [9.93538797e-01]\n",
            " [1.00000000e+00]\n",
            " [1.00000000e+00]\n",
            " [1.00000000e+00]\n",
            " [1.00000000e+00]\n",
            " [1.00000000e+00]\n",
            " [1.00000000e+00]\n",
            " [1.00000000e+00]\n",
            " [9.99884248e-01]\n",
            " [1.00000000e+00]\n",
            " [1.00000000e+00]\n",
            " [1.00000000e+00]\n",
            " [1.00000000e+00]\n",
            " [1.00000000e+00]\n",
            " [6.00115061e-01]\n",
            " [1.00000000e+00]\n",
            " [9.66261983e-01]\n",
            " [9.99123633e-01]\n",
            " [1.00000000e+00]\n",
            " [1.00000000e+00]\n",
            " [1.00000000e+00]\n",
            " [1.00000000e+00]\n",
            " [1.00000000e+00]\n",
            " [1.00000000e+00]\n",
            " [9.94091928e-01]\n",
            " [1.00000000e+00]\n",
            " [1.00000000e+00]\n",
            " [4.57425833e-01]\n",
            " [9.99834180e-01]\n",
            " [1.00000000e+00]\n",
            " [1.00000000e+00]\n",
            " [9.99999762e-01]\n",
            " [1.00000000e+00]\n",
            " [1.00000000e+00]\n",
            " [9.99999762e-01]\n",
            " [9.99999642e-01]\n",
            " [9.99999881e-01]\n",
            " [1.00000000e+00]\n",
            " [1.00000000e+00]\n",
            " [9.12867129e-01]\n",
            " [1.00000000e+00]\n",
            " [1.00000000e+00]\n",
            " [1.00000000e+00]\n",
            " [8.69003832e-01]\n",
            " [9.99998689e-01]\n",
            " [1.00000000e+00]\n",
            " [9.73075092e-01]\n",
            " [9.99937296e-01]\n",
            " [9.99936342e-01]\n",
            " [1.00000000e+00]\n",
            " [1.00000000e+00]\n",
            " [9.98798251e-01]\n",
            " [8.41292560e-01]\n",
            " [9.99999046e-01]\n",
            " [1.00000000e+00]\n",
            " [9.99999285e-01]\n",
            " [1.00000000e+00]\n",
            " [1.00000000e+00]\n",
            " [9.99994993e-01]\n",
            " [1.00000000e+00]\n",
            " [1.00000000e+00]\n",
            " [1.00000000e+00]\n",
            " [1.00000000e+00]\n",
            " [1.00000000e+00]\n",
            " [1.00000000e+00]\n",
            " [1.00000000e+00]\n",
            " [9.97594535e-01]\n",
            " [1.00000000e+00]\n",
            " [1.00000000e+00]\n",
            " [9.00691271e-01]\n",
            " [9.99999881e-01]\n",
            " [1.00000000e+00]\n",
            " [1.00000000e+00]\n",
            " [1.00000000e+00]\n",
            " [9.64253902e-01]\n",
            " [9.99999762e-01]\n",
            " [9.99799192e-01]\n",
            " [1.00000000e+00]\n",
            " [9.99958754e-01]\n",
            " [9.64253902e-01]\n",
            " [9.99410391e-01]\n",
            " [9.99998569e-01]\n",
            " [9.99999762e-01]\n",
            " [1.00000000e+00]\n",
            " [9.64253902e-01]\n",
            " [1.00000000e+00]\n",
            " [1.00000000e+00]\n",
            " [9.99999523e-01]\n",
            " [9.99997616e-01]\n",
            " [9.99940753e-01]\n",
            " [1.00000000e+00]\n",
            " [9.99999881e-01]\n",
            " [1.00000000e+00]\n",
            " [1.00000000e+00]\n",
            " [4.64321166e-01]\n",
            " [3.02128464e-01]\n",
            " [1.00000000e+00]\n",
            " [9.99996781e-01]\n",
            " [9.79908645e-01]\n",
            " [9.99254048e-01]\n",
            " [1.00000000e+00]\n",
            " [1.00000000e+00]\n",
            " [1.00000000e+00]\n",
            " [9.99971867e-01]\n",
            " [1.00000000e+00]\n",
            " [9.53098834e-01]\n",
            " [9.99994397e-01]\n",
            " [1.00000000e+00]\n",
            " [9.99932528e-01]\n",
            " [9.99999523e-01]\n",
            " [1.00000000e+00]\n",
            " [9.99986172e-01]\n",
            " [9.99998927e-01]\n",
            " [9.60082352e-01]\n",
            " [9.99999642e-01]\n",
            " [1.00000000e+00]\n",
            " [5.68677723e-01]\n",
            " [1.00000000e+00]\n",
            " [1.00000000e+00]\n",
            " [1.00000000e+00]\n",
            " [9.99999881e-01]\n",
            " [9.99999881e-01]\n",
            " [9.79708731e-01]\n",
            " [1.00000000e+00]\n",
            " [1.00000000e+00]\n",
            " [1.00000000e+00]\n",
            " [9.99929905e-01]\n",
            " [1.00000000e+00]\n",
            " [1.00000000e+00]\n",
            " [1.00000000e+00]\n",
            " [1.00000000e+00]\n",
            " [9.99999762e-01]\n",
            " [1.00000000e+00]\n",
            " [9.99999881e-01]\n",
            " [1.00000000e+00]\n",
            " [9.99912858e-01]\n",
            " [1.00000000e+00]\n",
            " [9.99996305e-01]\n",
            " [9.92346406e-01]\n",
            " [1.00000000e+00]\n",
            " [1.00000000e+00]\n",
            " [1.00000000e+00]\n",
            " [9.99994755e-01]\n",
            " [1.00000000e+00]\n",
            " [1.00000000e+00]\n",
            " [1.00000000e+00]\n",
            " [9.99998212e-01]\n",
            " [8.48024726e-01]\n",
            " [1.00000000e+00]\n",
            " [1.00000000e+00]\n",
            " [1.00000000e+00]\n",
            " [1.00000000e+00]\n",
            " [9.99864459e-01]\n",
            " [1.00000000e+00]\n",
            " [9.99999762e-01]\n",
            " [1.00000000e+00]\n",
            " [9.99999881e-01]\n",
            " [9.99994636e-01]\n",
            " [1.00000000e+00]\n",
            " [9.99990106e-01]\n",
            " [9.99929905e-01]\n",
            " [1.00000000e+00]\n",
            " [1.39014751e-01]\n",
            " [9.85631227e-01]\n",
            " [9.99987721e-01]\n",
            " [1.00000000e+00]\n",
            " [9.99998808e-01]\n",
            " [1.00000000e+00]\n",
            " [9.81149435e-01]\n",
            " [1.00000000e+00]\n",
            " [1.00000000e+00]\n",
            " [9.93717790e-01]\n",
            " [1.00000000e+00]\n",
            " [1.00000000e+00]\n",
            " [1.00000000e+00]\n",
            " [9.99995589e-01]\n",
            " [1.00000000e+00]\n",
            " [9.64253902e-01]\n",
            " [8.89999628e-01]\n",
            " [1.00000000e+00]\n",
            " [1.00000000e+00]\n",
            " [9.99449313e-01]\n",
            " [1.00000000e+00]\n",
            " [9.99892473e-01]\n",
            " [1.00000000e+00]\n",
            " [1.00000000e+00]\n",
            " [1.00000000e+00]\n",
            " [9.70183015e-01]\n",
            " [1.00000000e+00]\n",
            " [1.00000000e+00]\n",
            " [1.00000000e+00]\n",
            " [1.00000000e+00]\n",
            " [9.76348400e-01]\n",
            " [9.64253902e-01]\n",
            " [1.00000000e+00]\n",
            " [1.00000000e+00]\n",
            " [1.00000000e+00]\n",
            " [4.41929936e-01]\n",
            " [2.70123035e-01]\n",
            " [9.99490380e-01]\n",
            " [9.99867082e-01]\n",
            " [9.99807417e-01]\n",
            " [9.51821685e-01]\n",
            " [1.00000000e+00]\n",
            " [9.99954820e-01]\n",
            " [1.00000000e+00]\n",
            " [9.99993563e-01]\n",
            " [1.00000000e+00]\n",
            " [1.00000000e+00]\n",
            " [1.00000000e+00]\n",
            " [1.00000000e+00]\n",
            " [9.99999166e-01]\n",
            " [9.99992490e-01]\n",
            " [1.00000000e+00]\n",
            " [1.00000000e+00]\n",
            " [9.98663425e-01]\n",
            " [9.87922966e-01]\n",
            " [9.96833742e-01]\n",
            " [9.99996781e-01]\n",
            " [8.73221934e-01]\n",
            " [9.99998689e-01]\n",
            " [9.99994397e-01]\n",
            " [9.99990106e-01]\n",
            " [1.00000000e+00]\n",
            " [8.63523841e-01]\n",
            " [9.99999166e-01]\n",
            " [9.84580040e-01]\n",
            " [1.00000000e+00]\n",
            " [1.00000000e+00]\n",
            " [9.97001588e-01]\n",
            " [3.24951053e-01]\n",
            " [9.99990702e-01]\n",
            " [9.99999642e-01]\n",
            " [1.00000000e+00]\n",
            " [9.99999762e-01]\n",
            " [9.99997973e-01]\n",
            " [9.99986053e-01]\n",
            " [9.99991894e-01]\n",
            " [9.98484552e-01]\n",
            " [9.57180440e-01]\n",
            " [1.00000000e+00]\n",
            " [1.00000000e+00]\n",
            " [9.99997616e-01]\n",
            " [9.99999881e-01]\n",
            " [9.99999762e-01]\n",
            " [9.87671614e-01]\n",
            " [9.99965072e-01]\n",
            " [9.99847054e-01]\n",
            " [1.00000000e+00]\n",
            " [9.99412417e-01]\n",
            " [1.00000000e+00]\n",
            " [1.00000000e+00]\n",
            " [9.99933839e-01]\n",
            " [9.99999166e-01]\n",
            " [9.85203862e-01]\n",
            " [1.00000000e+00]\n",
            " [9.70401406e-01]\n",
            " [1.00000000e+00]\n",
            " [9.99988079e-01]\n",
            " [9.99965072e-01]\n",
            " [9.14040029e-01]\n",
            " [9.99721825e-01]\n",
            " [9.99999642e-01]\n",
            " [6.75091803e-01]\n",
            " [9.99880552e-01]\n",
            " [9.57180440e-01]\n",
            " [9.74588215e-01]\n",
            " [9.66929436e-01]\n",
            " [9.99680281e-01]\n",
            " [9.99110401e-01]\n",
            " [9.99965072e-01]\n",
            " [9.83120441e-01]\n",
            " [9.99958992e-01]\n",
            " [9.99999881e-01]\n",
            " [9.57180440e-01]\n",
            " [9.99994397e-01]\n",
            " [9.98484552e-01]\n",
            " [9.50960159e-01]\n",
            " [1.00000000e+00]\n",
            " [9.99680281e-01]\n",
            " [1.00000000e+00]\n",
            " [9.99847054e-01]\n",
            " [9.99680281e-01]\n",
            " [9.99999762e-01]\n",
            " [9.99680281e-01]\n",
            " [1.00000000e+00]\n",
            " [9.99997258e-01]\n",
            " [9.98484552e-01]\n",
            " [1.00000000e+00]\n",
            " [1.00000000e+00]\n",
            " [9.94910419e-01]\n",
            " [9.99999881e-01]\n",
            " [9.99994397e-01]\n",
            " [9.99429762e-01]\n",
            " [9.99990463e-01]\n",
            " [9.99938250e-01]\n",
            " [9.99994397e-01]\n",
            " [1.00000000e+00]\n",
            " [1.00000000e+00]\n",
            " [9.99999642e-01]\n",
            " [9.99882579e-01]\n",
            " [1.00000000e+00]\n",
            " [9.99999762e-01]\n",
            " [4.64810282e-01]\n",
            " [9.88953829e-01]\n",
            " [1.00000000e+00]\n",
            " [9.99987721e-01]\n",
            " [9.99842286e-01]\n",
            " [1.00000000e+00]\n",
            " [9.97560501e-01]\n",
            " [9.99907017e-01]\n",
            " [9.99533176e-01]\n",
            " [9.99246716e-01]\n",
            " [9.99999881e-01]\n",
            " [1.00000000e+00]\n",
            " [9.99999166e-01]\n",
            " [9.99780834e-01]\n",
            " [9.98114944e-01]\n",
            " [1.00000000e+00]\n",
            " [1.00000000e+00]\n",
            " [9.96505260e-01]\n",
            " [9.98411417e-01]\n",
            " [1.00000000e+00]\n",
            " [9.99999404e-01]\n",
            " [9.99997139e-01]\n",
            " [9.99999881e-01]\n",
            " [1.00000000e+00]\n",
            " [9.90620732e-01]\n",
            " [9.99874473e-01]\n",
            " [9.99356210e-01]\n",
            " [9.99965072e-01]\n",
            " [9.98577476e-01]\n",
            " [9.99998927e-01]\n",
            " [9.99993682e-01]\n",
            " [1.00000000e+00]\n",
            " [1.00000000e+00]\n",
            " [9.99395490e-01]\n",
            " [1.00000000e+00]\n",
            " [9.99200881e-01]\n",
            " [1.00000000e+00]\n",
            " [1.00000000e+00]\n",
            " [1.00000000e+00]\n",
            " [1.00000000e+00]\n",
            " [8.57896209e-01]\n",
            " [9.99914050e-01]\n",
            " [6.67929411e-01]\n",
            " [6.15649521e-01]\n",
            " [9.88299966e-01]\n",
            " [9.99965072e-01]\n",
            " [1.00000000e+00]\n",
            " [9.57180440e-01]\n",
            " [1.00000000e+00]\n",
            " [9.99847054e-01]\n",
            " [1.00000000e+00]\n",
            " [9.99996185e-01]\n",
            " [1.00000000e+00]\n",
            " [9.99784887e-01]\n",
            " [1.00000000e+00]\n",
            " [9.24980342e-01]\n",
            " [6.41646206e-01]\n",
            " [9.98484552e-01]\n",
            " [9.99409914e-01]\n",
            " [9.99994040e-01]\n",
            " [9.99999881e-01]\n",
            " [9.99999762e-01]\n",
            " [9.98484552e-01]\n",
            " [1.00000000e+00]\n",
            " [1.00000000e+00]\n",
            " [9.99680281e-01]\n",
            " [9.99999881e-01]\n",
            " [9.99507427e-01]\n",
            " [9.87134516e-01]\n",
            " [9.99953032e-01]\n",
            " [9.99998450e-01]\n",
            " [9.99572217e-01]\n",
            " [9.99994516e-01]\n",
            " [1.00000000e+00]\n",
            " [9.57180440e-01]\n",
            " [1.00000000e+00]\n",
            " [9.95979071e-01]\n",
            " [1.00000000e+00]\n",
            " [9.99997497e-01]\n",
            " [9.88175392e-01]\n",
            " [9.99999762e-01]\n",
            " [9.98577476e-01]\n",
            " [9.99999642e-01]\n",
            " [1.00000000e+00]\n",
            " [9.99999523e-01]\n",
            " [9.99999881e-01]\n",
            " [1.00000000e+00]\n",
            " [9.98426080e-01]\n",
            " [9.99994397e-01]\n",
            " [9.99999523e-01]\n",
            " [9.99986529e-01]\n",
            " [9.99076366e-01]\n",
            " [9.99999881e-01]\n",
            " [9.99384880e-01]\n",
            " [9.99782026e-01]\n",
            " [9.99847054e-01]\n",
            " [9.94979441e-01]\n",
            " [1.00000000e+00]\n",
            " [9.99858379e-01]\n",
            " [9.99946594e-01]\n",
            " [1.00000000e+00]\n",
            " [9.97540951e-01]\n",
            " [9.98745799e-01]\n",
            " [1.00000000e+00]\n",
            " [9.99999642e-01]\n",
            " [9.99985218e-01]\n",
            " [9.97647941e-01]\n",
            " [1.00000000e+00]\n",
            " [9.99847054e-01]\n",
            " [9.99999881e-01]\n",
            " [9.99278128e-01]\n",
            " [1.00000000e+00]\n",
            " [2.94837922e-01]\n",
            " [1.00000000e+00]\n",
            " [9.96715903e-01]\n",
            " [9.99992728e-01]\n",
            " [9.99999523e-01]\n",
            " [9.99964476e-01]\n",
            " [9.99997377e-01]\n",
            " [1.00000000e+00]\n",
            " [9.93251741e-01]\n",
            " [9.97873068e-01]\n",
            " [1.00000000e+00]\n",
            " [1.00000000e+00]\n",
            " [1.00000000e+00]\n",
            " [9.99970436e-01]\n",
            " [1.00000000e+00]\n",
            " [9.99999881e-01]]\n",
            "Test labels [0 0 0 0 0 0 0 0 0 0 0 0 0 0 0 0 0 0 0 0 0 0 0 0 0 0 0 0 0 0 0 0 0 0 0 0 0\n",
            " 0 0 0 0 0 0 0 0 0 0 0 0 0 0 0 0 0 0 0 0 0 0 0 0 0 0 0 0 0 0 0 0 0 0 0 0 0\n",
            " 0 0 0 0 0 0 0 0 0 0 0 0 0 0 0 0 0 0 0 0 0 0 0 0 0 0 0 0 0 0 0 0 0 0 0 0 0\n",
            " 0 0 0 0 0 0 0 0 0 0 0 0 0 0 0 0 0 0 0 0 0 0 0 0 0 0 0 0 0 0 0 0 0 0 0 0 0\n",
            " 0 0 0 0 0 0 0 0 0 0 0 0 0 0 0 0 0 0 0 0 0 0 0 0 0 0 0 0 0 0 0 0 0 0 0 0 0\n",
            " 0 0 0 0 0 0 0 0 0 0 0 0 0 0 0 0 0 0 0 0 0 0 0 0 0 0 0 0 0 0 0 0 0 0 0 0 0\n",
            " 0 0 0 0 0 0 0 0 0 0 0 0 1 1 1 1 1 1 1 1 1 1 1 1 1 1 1 1 1 1 1 1 1 1 1 1 1\n",
            " 1 1 1 1 1 1 1 1 1 1 1 1 1 1 1 1 1 1 1 1 1 1 1 1 1 1 1 1 1 1 1 1 1 1 1 1 1\n",
            " 1 1 1 1 1 1 1 1 1 1 1 1 1 1 1 1 1 1 1 1 1 1 1 1 1 1 1 1 1 1 1 1 1 1 1 1 1\n",
            " 1 1 1 1 1 1 1 1 1 1 1 1 1 1 1 1 1 1 1 1 1 1 1 1 1 1 1 1 1 1 1 1 1 1 1 1 1\n",
            " 1 1 1 1 1 1 1 1 1 1 1 1 1 1 1 1 1 1 1 1 1 1 1 1 1 1 1 1 1 1 1 1 1 1 1 1 1\n",
            " 1 1 1 1 1 1 1 1 1 1 1 1 1 1 1 1 1 1 1 1 1 1 1 1 1 1 1 1 1 1 1 1 1 1 1 1 1\n",
            " 1 1 1 1 1 1 1 1 1 1 1 1 1 1 1 1 1 1 1 1 1 1 1 1 1 1 1 1 1 1 1 1 1 1 1 1 1\n",
            " 1 1 1 1 1 1 1 1 1 1 1 1 1 1 1 1 1 1 1 1 1 1 1 1 1 1 1 1 1 1 1 1 1 1 1 1 1\n",
            " 1 1 1 1 1 1 1 1 1 1 1 1 1 1 1 1 1 1 1 1 1 1 1 1 1 1 1 1 1 1 1 1 1 1 1 1 1\n",
            " 1 1 1 1 1 1 1 1 1 1 1 1 1 1 1 1 1 1 1 1 1 1 1 1 1 1 1 1 1 1 1 1 1 1 1 1 1\n",
            " 1 1 1 1 1 1 1 1 1 1 1 1 1 1 1 1 1 1 1 1 1 1 1 1 1 1 1 1 1 1 1 1 1 1 1 1 1\n",
            " 1 1 1 1 1 1 1 1 1 1 1 1 1 1 1 1 1 1 1 1 1 1 1 1 1 1 1 1 1 1 1 1 1 1 1]\n",
            "Predict classes [0 0 0 0 0 0 0 0 0 0 0 0 0 0 0 0 0 0 0 0 0 0 0 0 0 1 0 0 0 0 0 1 0 0 0 0 0\n",
            " 0 0 0 0 0 0 0 0 1 0 0 0 0 0 0 0 0 0 0 0 0 0 1 0 0 0 0 0 0 0 0 0 1 0 0 0 1\n",
            " 0 0 0 0 0 0 0 0 0 0 0 0 0 0 0 0 0 0 0 0 0 0 0 1 0 0 0 0 0 0 1 0 1 0 1 0 1\n",
            " 0 0 0 0 0 0 0 1 0 0 1 0 1 0 0 1 0 0 0 1 0 0 0 0 1 0 0 0 0 0 1 1 0 0 0 0 0\n",
            " 0 1 0 0 1 0 1 0 1 0 0 1 1 0 1 1 0 0 0 0 1 0 0 0 0 0 0 0 1 1 0 0 0 1 1 1 0\n",
            " 1 1 1 0 0 0 1 0 0 0 1 0 0 0 0 0 1 0 0 0 0 0 0 0 0 0 1 0 0 0 0 0 0 0 0 0 0\n",
            " 0 0 0 0 0 0 0 0 1 0 0 1 1 1 1 1 1 1 1 1 1 1 1 1 1 1 1 1 1 1 1 1 1 1 1 1 1\n",
            " 1 0 1 1 1 1 1 1 1 1 1 1 1 1 1 1 1 1 1 1 1 1 1 1 1 1 1 1 1 1 1 1 1 1 1 1 1\n",
            " 1 1 1 1 1 1 1 1 1 1 1 1 1 1 1 1 1 1 1 1 1 1 1 1 1 1 1 1 1 1 1 0 0 1 1 1 1\n",
            " 1 1 1 1 1 1 1 1 1 1 1 1 1 1 1 1 1 1 1 1 1 1 1 1 1 1 1 1 1 1 1 1 1 1 1 1 1\n",
            " 1 1 1 1 1 1 1 1 1 1 1 1 1 1 1 1 1 1 1 1 1 1 1 1 1 0 1 1 1 1 1 1 1 1 1 1 1\n",
            " 1 1 1 1 1 1 1 1 1 1 1 1 1 1 1 1 1 1 1 1 1 1 1 0 0 1 1 1 1 1 1 1 1 1 1 1 1\n",
            " 1 1 1 1 1 1 1 1 1 1 1 1 1 1 1 1 1 1 1 0 1 1 1 1 1 1 1 1 1 1 1 1 1 1 1 1 1\n",
            " 1 1 1 1 1 1 1 1 1 1 1 1 1 1 1 1 1 1 1 1 1 1 1 1 1 1 1 1 1 1 1 1 1 1 1 1 1\n",
            " 1 1 1 1 1 1 1 1 1 1 1 1 1 1 1 1 1 1 0 1 1 1 1 1 1 1 1 1 1 1 1 1 1 1 1 1 1\n",
            " 1 1 1 1 1 1 1 1 1 1 1 1 1 1 1 1 1 1 1 1 1 1 1 1 1 1 1 1 1 1 1 1 1 1 1 1 1\n",
            " 1 1 1 1 1 1 1 1 1 1 1 1 1 1 1 1 1 1 1 1 1 1 1 1 1 1 1 1 1 1 1 1 1 1 1 1 1\n",
            " 1 1 1 1 1 1 1 1 1 1 1 1 1 1 1 1 1 1 1 0 1 1 1 1 1 1 1 1 1 1 1 1 1 1 1]\n",
            "\n",
            "Test metrics\n",
            "----------------\n",
            "Confusion matrix\n",
            " [[192  42]\n",
            " [  9 421]]\n",
            "Accuracy: 92.32%\n",
            "Precision: 90.93%\n",
            "Recall: 97.91%\n",
            "F1-score: 94.29%\n",
            "ROC AUC: 0.976868\n",
            "\n",
            "Train metric\n",
            "----------------\n",
            "Train accuracy: 95.34\n"
          ]
        }
      ],
      "source": [
        "from sklearn.metrics import accuracy_score, confusion_matrix, precision_score, recall_score, f1_score, roc_auc_score, roc_curve, auc\n",
        "\n",
        "predict_probs = model.predict(test_data)\n",
        "#predict_classes = model.predict_classes(test_data, verbose=0)\n",
        "print(predict_probs)\n",
        "\n",
        "# Calculate predicted classes using the predicted probabilities (assuming a threshold of 0.5)\n",
        "predict_classes = np.round(predict_probs)\n",
        "predict_classes = np.array(predict_classes).reshape(test_labels.shape).astype(int)\n",
        "\n",
        "print(\"Test labels\", test_labels)\n",
        "print(\"Predict classes\", predict_classes)\n",
        "\n",
        "\n",
        "print ('\\nTest metrics\\n----------------')\n",
        "cm = confusion_matrix(test_labels, predict_classes)\n",
        "print ('Confusion matrix\\n', cm)\n",
        "# accuracy: (tp + tn) / (p + n)\n",
        "accuracy = accuracy_score(test_labels, predict_classes) * 100\n",
        "print('Accuracy: {}%'.format(np.round(accuracy,2)))\n",
        "# precision tp / (tp + fp)\n",
        "precision = precision_score(test_labels, predict_classes) * 100\n",
        "print('Precision: {}%'.format(np.round(precision,2)))\n",
        "# recall: tp / (tp + fn)\n",
        "recall = recall_score(test_labels, predict_classes) * 100\n",
        "print('Recall: {}%'.format(np.round(recall,2)))\n",
        "# f1: 2 tp / (2 tp + fp + fn)\n",
        "f1 = f1_score(test_labels, predict_classes) * 100\n",
        "print('F1-score: {}%'.format(np.round(2* precision * recall / (precision + recall),2)))\n",
        "\n",
        "auc = roc_auc_score(test_labels, predict_probs)\n",
        "print('ROC AUC: %f' % auc)\n",
        "\n",
        "print('\\nTrain metric\\n----------------')\n",
        "print('Train accuracy: {}'.format(np.round((hist.history['accuracy'][-1])*100, 2)))"
      ]
    }
  ],
  "metadata": {
    "accelerator": "TPU",
    "colab": {
      "provenance": []
    },
    "kernelspec": {
      "display_name": "Python 3",
      "name": "python3"
    },
    "language_info": {
      "codemirror_mode": {
        "name": "ipython",
        "version": 3
      },
      "file_extension": ".py",
      "mimetype": "text/x-python",
      "name": "python",
      "nbconvert_exporter": "python",
      "pygments_lexer": "ipython3",
      "version": "3.6.4"
    }
  },
  "nbformat": 4,
  "nbformat_minor": 0
}